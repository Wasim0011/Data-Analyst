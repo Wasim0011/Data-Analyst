{
 "cells": [
  {
   "cell_type": "markdown",
   "id": "37949bf3-1841-443c-9f78-0719469d85be",
   "metadata": {},
   "source": [
    "## Prediction of Target Location using RSS Signals"
   ]
  },
  {
   "cell_type": "code",
   "execution_count": 1,
   "id": "921b1453-cf75-4425-9550-4c228652bc1d",
   "metadata": {},
   "outputs": [],
   "source": [
    "import pandas as pd"
   ]
  },
  {
   "cell_type": "code",
   "execution_count": 2,
   "id": "35205552-4595-4a36-9933-6bf95593835e",
   "metadata": {},
   "outputs": [],
   "source": [
    "signal = pd.read_excel(\"first.train.xlsx\")"
   ]
  },
  {
   "cell_type": "code",
   "execution_count": 3,
   "id": "3d78569b-aac1-4fd5-88ef-caa3061755a4",
   "metadata": {
    "scrolled": true
   },
   "outputs": [
    {
     "data": {
      "text/html": [
       "<div>\n",
       "<style scoped>\n",
       "    .dataframe tbody tr th:only-of-type {\n",
       "        vertical-align: middle;\n",
       "    }\n",
       "\n",
       "    .dataframe tbody tr th {\n",
       "        vertical-align: top;\n",
       "    }\n",
       "\n",
       "    .dataframe thead th {\n",
       "        text-align: right;\n",
       "    }\n",
       "</style>\n",
       "<table border=\"1\" class=\"dataframe\">\n",
       "  <thead>\n",
       "    <tr style=\"text-align: right;\">\n",
       "      <th></th>\n",
       "      <th>WAP001</th>\n",
       "      <th>WAP002</th>\n",
       "      <th>WAP003</th>\n",
       "      <th>WAP004</th>\n",
       "      <th>WAP005</th>\n",
       "      <th>WAP006</th>\n",
       "      <th>WAP007</th>\n",
       "      <th>WAP008</th>\n",
       "      <th>WAP009</th>\n",
       "      <th>WAP010</th>\n",
       "      <th>...</th>\n",
       "      <th>WAP618</th>\n",
       "      <th>WAP619</th>\n",
       "      <th>WAP620</th>\n",
       "      <th>id</th>\n",
       "      <th>timestamp</th>\n",
       "      <th>x</th>\n",
       "      <th>y</th>\n",
       "      <th>f</th>\n",
       "      <th>Labels</th>\n",
       "      <th>Actual_labels</th>\n",
       "    </tr>\n",
       "  </thead>\n",
       "  <tbody>\n",
       "    <tr>\n",
       "      <th>0</th>\n",
       "      <td>-90</td>\n",
       "      <td>-62</td>\n",
       "      <td>-69</td>\n",
       "      <td>-87</td>\n",
       "      <td>-85</td>\n",
       "      <td>-87</td>\n",
       "      <td>-68</td>\n",
       "      <td>-86</td>\n",
       "      <td>-63</td>\n",
       "      <td>-85</td>\n",
       "      <td>...</td>\n",
       "      <td>100</td>\n",
       "      <td>100</td>\n",
       "      <td>100</td>\n",
       "      <td>101100101</td>\n",
       "      <td>20160602155217200</td>\n",
       "      <td>12.913852</td>\n",
       "      <td>29.216544</td>\n",
       "      <td>3</td>\n",
       "      <td>3</td>\n",
       "      <td>2</td>\n",
       "    </tr>\n",
       "    <tr>\n",
       "      <th>1</th>\n",
       "      <td>-93</td>\n",
       "      <td>-65</td>\n",
       "      <td>-67</td>\n",
       "      <td>-85</td>\n",
       "      <td>-88</td>\n",
       "      <td>-87</td>\n",
       "      <td>-67</td>\n",
       "      <td>-86</td>\n",
       "      <td>-66</td>\n",
       "      <td>-88</td>\n",
       "      <td>...</td>\n",
       "      <td>100</td>\n",
       "      <td>100</td>\n",
       "      <td>100</td>\n",
       "      <td>101100102</td>\n",
       "      <td>20160602155220700</td>\n",
       "      <td>12.913852</td>\n",
       "      <td>29.216544</td>\n",
       "      <td>3</td>\n",
       "      <td>3</td>\n",
       "      <td>2</td>\n",
       "    </tr>\n",
       "    <tr>\n",
       "      <th>2</th>\n",
       "      <td>-88</td>\n",
       "      <td>-64</td>\n",
       "      <td>-68</td>\n",
       "      <td>-88</td>\n",
       "      <td>-86</td>\n",
       "      <td>-90</td>\n",
       "      <td>-68</td>\n",
       "      <td>-88</td>\n",
       "      <td>-66</td>\n",
       "      <td>-86</td>\n",
       "      <td>...</td>\n",
       "      <td>100</td>\n",
       "      <td>100</td>\n",
       "      <td>100</td>\n",
       "      <td>101100103</td>\n",
       "      <td>20160602155224300</td>\n",
       "      <td>12.913852</td>\n",
       "      <td>29.216544</td>\n",
       "      <td>3</td>\n",
       "      <td>3</td>\n",
       "      <td>2</td>\n",
       "    </tr>\n",
       "    <tr>\n",
       "      <th>3</th>\n",
       "      <td>-90</td>\n",
       "      <td>-63</td>\n",
       "      <td>-66</td>\n",
       "      <td>-87</td>\n",
       "      <td>-88</td>\n",
       "      <td>-91</td>\n",
       "      <td>-67</td>\n",
       "      <td>-86</td>\n",
       "      <td>-64</td>\n",
       "      <td>-85</td>\n",
       "      <td>...</td>\n",
       "      <td>100</td>\n",
       "      <td>100</td>\n",
       "      <td>100</td>\n",
       "      <td>101100104</td>\n",
       "      <td>20160602155227800</td>\n",
       "      <td>12.913852</td>\n",
       "      <td>29.216544</td>\n",
       "      <td>3</td>\n",
       "      <td>3</td>\n",
       "      <td>2</td>\n",
       "    </tr>\n",
       "    <tr>\n",
       "      <th>4</th>\n",
       "      <td>100</td>\n",
       "      <td>-64</td>\n",
       "      <td>-68</td>\n",
       "      <td>-88</td>\n",
       "      <td>100</td>\n",
       "      <td>-88</td>\n",
       "      <td>-66</td>\n",
       "      <td>-88</td>\n",
       "      <td>-63</td>\n",
       "      <td>-86</td>\n",
       "      <td>...</td>\n",
       "      <td>100</td>\n",
       "      <td>100</td>\n",
       "      <td>100</td>\n",
       "      <td>101100105</td>\n",
       "      <td>20160602155231300</td>\n",
       "      <td>12.913852</td>\n",
       "      <td>29.216544</td>\n",
       "      <td>3</td>\n",
       "      <td>3</td>\n",
       "      <td>2</td>\n",
       "    </tr>\n",
       "  </tbody>\n",
       "</table>\n",
       "<p>5 rows × 627 columns</p>\n",
       "</div>"
      ],
      "text/plain": [
       "   WAP001  WAP002  WAP003  WAP004  WAP005  WAP006  WAP007  WAP008  WAP009  \\\n",
       "0     -90     -62     -69     -87     -85     -87     -68     -86     -63   \n",
       "1     -93     -65     -67     -85     -88     -87     -67     -86     -66   \n",
       "2     -88     -64     -68     -88     -86     -90     -68     -88     -66   \n",
       "3     -90     -63     -66     -87     -88     -91     -67     -86     -64   \n",
       "4     100     -64     -68     -88     100     -88     -66     -88     -63   \n",
       "\n",
       "   WAP010  ...  WAP618  WAP619  WAP620         id          timestamp  \\\n",
       "0     -85  ...     100     100     100  101100101  20160602155217200   \n",
       "1     -88  ...     100     100     100  101100102  20160602155220700   \n",
       "2     -86  ...     100     100     100  101100103  20160602155224300   \n",
       "3     -85  ...     100     100     100  101100104  20160602155227800   \n",
       "4     -86  ...     100     100     100  101100105  20160602155231300   \n",
       "\n",
       "           x          y  f  Labels  Actual_labels  \n",
       "0  12.913852  29.216544  3       3              2  \n",
       "1  12.913852  29.216544  3       3              2  \n",
       "2  12.913852  29.216544  3       3              2  \n",
       "3  12.913852  29.216544  3       3              2  \n",
       "4  12.913852  29.216544  3       3              2  \n",
       "\n",
       "[5 rows x 627 columns]"
      ]
     },
     "execution_count": 3,
     "metadata": {},
     "output_type": "execute_result"
    }
   ],
   "source": [
    "signal.head() #will show top 5 rows"
   ]
  },
  {
   "cell_type": "code",
   "execution_count": 4,
   "id": "7df4f183-6c43-4226-b4df-46506d32d60d",
   "metadata": {},
   "outputs": [
    {
     "name": "stdout",
     "output_type": "stream",
     "text": [
      "<class 'pandas.core.frame.DataFrame'>\n",
      "RangeIndex: 8640 entries, 0 to 8639\n",
      "Columns: 627 entries, WAP001 to Actual_labels\n",
      "dtypes: float64(2), int64(625)\n",
      "memory usage: 41.3 MB\n"
     ]
    }
   ],
   "source": [
    "signal.info() #will give details of data"
   ]
  },
  {
   "cell_type": "code",
   "execution_count": 5,
   "id": "0e9d4ef5-0817-4b34-b14b-5935d1a89511",
   "metadata": {},
   "outputs": [
    {
     "data": {
      "text/plain": [
       "WAP620\n",
       "100    8640\n",
       "Name: count, dtype: int64"
      ]
     },
     "execution_count": 5,
     "metadata": {},
     "output_type": "execute_result"
    }
   ],
   "source": [
    "signal['WAP620'].value_counts() #give details about the term"
   ]
  },
  {
   "cell_type": "code",
   "execution_count": 6,
   "id": "35a8cb7e-7b83-43e0-af6b-78ce73a7fb34",
   "metadata": {},
   "outputs": [
    {
     "data": {
      "text/html": [
       "<div>\n",
       "<style scoped>\n",
       "    .dataframe tbody tr th:only-of-type {\n",
       "        vertical-align: middle;\n",
       "    }\n",
       "\n",
       "    .dataframe tbody tr th {\n",
       "        vertical-align: top;\n",
       "    }\n",
       "\n",
       "    .dataframe thead th {\n",
       "        text-align: right;\n",
       "    }\n",
       "</style>\n",
       "<table border=\"1\" class=\"dataframe\">\n",
       "  <thead>\n",
       "    <tr style=\"text-align: right;\">\n",
       "      <th></th>\n",
       "      <th>WAP001</th>\n",
       "      <th>WAP002</th>\n",
       "      <th>WAP003</th>\n",
       "      <th>WAP004</th>\n",
       "      <th>WAP005</th>\n",
       "      <th>WAP006</th>\n",
       "      <th>WAP007</th>\n",
       "      <th>WAP008</th>\n",
       "      <th>WAP009</th>\n",
       "      <th>WAP010</th>\n",
       "      <th>...</th>\n",
       "      <th>WAP618</th>\n",
       "      <th>WAP619</th>\n",
       "      <th>WAP620</th>\n",
       "      <th>id</th>\n",
       "      <th>timestamp</th>\n",
       "      <th>x</th>\n",
       "      <th>y</th>\n",
       "      <th>f</th>\n",
       "      <th>Labels</th>\n",
       "      <th>Actual_labels</th>\n",
       "    </tr>\n",
       "  </thead>\n",
       "  <tbody>\n",
       "    <tr>\n",
       "      <th>count</th>\n",
       "      <td>8640.000000</td>\n",
       "      <td>8640.000000</td>\n",
       "      <td>8640.000000</td>\n",
       "      <td>8640.000000</td>\n",
       "      <td>8640.000000</td>\n",
       "      <td>8640.000000</td>\n",
       "      <td>8640.000000</td>\n",
       "      <td>8640.000000</td>\n",
       "      <td>8640.000000</td>\n",
       "      <td>8640.000000</td>\n",
       "      <td>...</td>\n",
       "      <td>8640.0</td>\n",
       "      <td>8640.0</td>\n",
       "      <td>8640.0</td>\n",
       "      <td>8.640000e+03</td>\n",
       "      <td>8.640000e+03</td>\n",
       "      <td>8640.000000</td>\n",
       "      <td>8640.000000</td>\n",
       "      <td>8640.000000</td>\n",
       "      <td>8640.000000</td>\n",
       "      <td>8640.000000</td>\n",
       "    </tr>\n",
       "    <tr>\n",
       "      <th>mean</th>\n",
       "      <td>-7.038310</td>\n",
       "      <td>-3.175926</td>\n",
       "      <td>2.209722</td>\n",
       "      <td>10.110880</td>\n",
       "      <td>59.010764</td>\n",
       "      <td>-7.260532</td>\n",
       "      <td>4.066088</td>\n",
       "      <td>8.981134</td>\n",
       "      <td>10.331944</td>\n",
       "      <td>58.375926</td>\n",
       "      <td>...</td>\n",
       "      <td>100.0</td>\n",
       "      <td>100.0</td>\n",
       "      <td>100.0</td>\n",
       "      <td>1.081049e+08</td>\n",
       "      <td>2.016062e+16</td>\n",
       "      <td>8.524312</td>\n",
       "      <td>22.949487</td>\n",
       "      <td>4.000000</td>\n",
       "      <td>24.514583</td>\n",
       "      <td>23.514583</td>\n",
       "    </tr>\n",
       "    <tr>\n",
       "      <th>std</th>\n",
       "      <td>89.807832</td>\n",
       "      <td>88.172132</td>\n",
       "      <td>88.163900</td>\n",
       "      <td>91.235399</td>\n",
       "      <td>77.150028</td>\n",
       "      <td>89.780622</td>\n",
       "      <td>88.206010</td>\n",
       "      <td>91.256607</td>\n",
       "      <td>90.218637</td>\n",
       "      <td>77.588284</td>\n",
       "      <td>...</td>\n",
       "      <td>0.0</td>\n",
       "      <td>0.0</td>\n",
       "      <td>0.0</td>\n",
       "      <td>4.320745e+06</td>\n",
       "      <td>6.685720e+09</td>\n",
       "      <td>3.584252</td>\n",
       "      <td>4.097289</td>\n",
       "      <td>1.000058</td>\n",
       "      <td>13.842608</td>\n",
       "      <td>13.842608</td>\n",
       "    </tr>\n",
       "    <tr>\n",
       "      <th>min</th>\n",
       "      <td>-97.000000</td>\n",
       "      <td>-97.000000</td>\n",
       "      <td>-95.000000</td>\n",
       "      <td>-95.000000</td>\n",
       "      <td>-97.000000</td>\n",
       "      <td>-98.000000</td>\n",
       "      <td>-95.000000</td>\n",
       "      <td>-95.000000</td>\n",
       "      <td>-98.000000</td>\n",
       "      <td>-96.000000</td>\n",
       "      <td>...</td>\n",
       "      <td>100.0</td>\n",
       "      <td>100.0</td>\n",
       "      <td>100.0</td>\n",
       "      <td>1.011001e+08</td>\n",
       "      <td>2.016060e+16</td>\n",
       "      <td>4.134772</td>\n",
       "      <td>16.699815</td>\n",
       "      <td>3.000000</td>\n",
       "      <td>1.000000</td>\n",
       "      <td>0.000000</td>\n",
       "    </tr>\n",
       "    <tr>\n",
       "      <th>25%</th>\n",
       "      <td>-85.000000</td>\n",
       "      <td>-82.000000</td>\n",
       "      <td>-80.000000</td>\n",
       "      <td>-83.000000</td>\n",
       "      <td>100.000000</td>\n",
       "      <td>-85.000000</td>\n",
       "      <td>-79.000000</td>\n",
       "      <td>-83.000000</td>\n",
       "      <td>-82.000000</td>\n",
       "      <td>100.000000</td>\n",
       "      <td>...</td>\n",
       "      <td>100.0</td>\n",
       "      <td>100.0</td>\n",
       "      <td>100.0</td>\n",
       "      <td>1.041073e+08</td>\n",
       "      <td>2.016061e+16</td>\n",
       "      <td>4.134772</td>\n",
       "      <td>18.487919</td>\n",
       "      <td>3.000000</td>\n",
       "      <td>13.000000</td>\n",
       "      <td>12.000000</td>\n",
       "    </tr>\n",
       "    <tr>\n",
       "      <th>50%</th>\n",
       "      <td>-75.000000</td>\n",
       "      <td>-64.000000</td>\n",
       "      <td>-62.000000</td>\n",
       "      <td>100.000000</td>\n",
       "      <td>100.000000</td>\n",
       "      <td>-75.000000</td>\n",
       "      <td>-61.000000</td>\n",
       "      <td>100.000000</td>\n",
       "      <td>100.000000</td>\n",
       "      <td>100.000000</td>\n",
       "      <td>...</td>\n",
       "      <td>100.0</td>\n",
       "      <td>100.0</td>\n",
       "      <td>100.0</td>\n",
       "      <td>1.081049e+08</td>\n",
       "      <td>2.016062e+16</td>\n",
       "      <td>8.524312</td>\n",
       "      <td>22.064128</td>\n",
       "      <td>4.000000</td>\n",
       "      <td>24.500000</td>\n",
       "      <td>23.500000</td>\n",
       "    </tr>\n",
       "    <tr>\n",
       "      <th>75%</th>\n",
       "      <td>100.000000</td>\n",
       "      <td>100.000000</td>\n",
       "      <td>100.000000</td>\n",
       "      <td>100.000000</td>\n",
       "      <td>100.000000</td>\n",
       "      <td>100.000000</td>\n",
       "      <td>100.000000</td>\n",
       "      <td>100.000000</td>\n",
       "      <td>100.000000</td>\n",
       "      <td>100.000000</td>\n",
       "      <td>...</td>\n",
       "      <td>100.0</td>\n",
       "      <td>100.0</td>\n",
       "      <td>100.0</td>\n",
       "      <td>1.121024e+08</td>\n",
       "      <td>2.016062e+16</td>\n",
       "      <td>12.913852</td>\n",
       "      <td>25.640336</td>\n",
       "      <td>5.000000</td>\n",
       "      <td>36.250000</td>\n",
       "      <td>35.250000</td>\n",
       "    </tr>\n",
       "    <tr>\n",
       "      <th>max</th>\n",
       "      <td>100.000000</td>\n",
       "      <td>100.000000</td>\n",
       "      <td>100.000000</td>\n",
       "      <td>100.000000</td>\n",
       "      <td>100.000000</td>\n",
       "      <td>100.000000</td>\n",
       "      <td>100.000000</td>\n",
       "      <td>100.000000</td>\n",
       "      <td>100.000000</td>\n",
       "      <td>100.000000</td>\n",
       "      <td>...</td>\n",
       "      <td>100.0</td>\n",
       "      <td>100.0</td>\n",
       "      <td>100.0</td>\n",
       "      <td>1.151096e+08</td>\n",
       "      <td>2.016062e+16</td>\n",
       "      <td>12.913852</td>\n",
       "      <td>29.216544</td>\n",
       "      <td>5.000000</td>\n",
       "      <td>48.000000</td>\n",
       "      <td>47.000000</td>\n",
       "    </tr>\n",
       "  </tbody>\n",
       "</table>\n",
       "<p>8 rows × 627 columns</p>\n",
       "</div>"
      ],
      "text/plain": [
       "            WAP001       WAP002       WAP003       WAP004       WAP005  \\\n",
       "count  8640.000000  8640.000000  8640.000000  8640.000000  8640.000000   \n",
       "mean     -7.038310    -3.175926     2.209722    10.110880    59.010764   \n",
       "std      89.807832    88.172132    88.163900    91.235399    77.150028   \n",
       "min     -97.000000   -97.000000   -95.000000   -95.000000   -97.000000   \n",
       "25%     -85.000000   -82.000000   -80.000000   -83.000000   100.000000   \n",
       "50%     -75.000000   -64.000000   -62.000000   100.000000   100.000000   \n",
       "75%     100.000000   100.000000   100.000000   100.000000   100.000000   \n",
       "max     100.000000   100.000000   100.000000   100.000000   100.000000   \n",
       "\n",
       "            WAP006       WAP007       WAP008       WAP009       WAP010  ...  \\\n",
       "count  8640.000000  8640.000000  8640.000000  8640.000000  8640.000000  ...   \n",
       "mean     -7.260532     4.066088     8.981134    10.331944    58.375926  ...   \n",
       "std      89.780622    88.206010    91.256607    90.218637    77.588284  ...   \n",
       "min     -98.000000   -95.000000   -95.000000   -98.000000   -96.000000  ...   \n",
       "25%     -85.000000   -79.000000   -83.000000   -82.000000   100.000000  ...   \n",
       "50%     -75.000000   -61.000000   100.000000   100.000000   100.000000  ...   \n",
       "75%     100.000000   100.000000   100.000000   100.000000   100.000000  ...   \n",
       "max     100.000000   100.000000   100.000000   100.000000   100.000000  ...   \n",
       "\n",
       "       WAP618  WAP619  WAP620            id     timestamp            x  \\\n",
       "count  8640.0  8640.0  8640.0  8.640000e+03  8.640000e+03  8640.000000   \n",
       "mean    100.0   100.0   100.0  1.081049e+08  2.016062e+16     8.524312   \n",
       "std       0.0     0.0     0.0  4.320745e+06  6.685720e+09     3.584252   \n",
       "min     100.0   100.0   100.0  1.011001e+08  2.016060e+16     4.134772   \n",
       "25%     100.0   100.0   100.0  1.041073e+08  2.016061e+16     4.134772   \n",
       "50%     100.0   100.0   100.0  1.081049e+08  2.016062e+16     8.524312   \n",
       "75%     100.0   100.0   100.0  1.121024e+08  2.016062e+16    12.913852   \n",
       "max     100.0   100.0   100.0  1.151096e+08  2.016062e+16    12.913852   \n",
       "\n",
       "                 y            f       Labels  Actual_labels  \n",
       "count  8640.000000  8640.000000  8640.000000    8640.000000  \n",
       "mean     22.949487     4.000000    24.514583      23.514583  \n",
       "std       4.097289     1.000058    13.842608      13.842608  \n",
       "min      16.699815     3.000000     1.000000       0.000000  \n",
       "25%      18.487919     3.000000    13.000000      12.000000  \n",
       "50%      22.064128     4.000000    24.500000      23.500000  \n",
       "75%      25.640336     5.000000    36.250000      35.250000  \n",
       "max      29.216544     5.000000    48.000000      47.000000  \n",
       "\n",
       "[8 rows x 627 columns]"
      ]
     },
     "execution_count": 6,
     "metadata": {},
     "output_type": "execute_result"
    }
   ],
   "source": [
    "signal.describe()"
   ]
  },
  {
   "cell_type": "code",
   "execution_count": 7,
   "id": "941d8e98-1d44-4fea-8c64-ad2930f8d710",
   "metadata": {},
   "outputs": [
    {
     "data": {
      "text/plain": [
       "(8640, 627)"
      ]
     },
     "execution_count": 7,
     "metadata": {},
     "output_type": "execute_result"
    }
   ],
   "source": [
    "signal.shape"
   ]
  },
  {
   "cell_type": "code",
   "execution_count": 8,
   "id": "ba22e56f-af7c-47b0-9c47-72113f53950c",
   "metadata": {},
   "outputs": [],
   "source": [
    "# %matplotlib inline"
   ]
  },
  {
   "cell_type": "code",
   "execution_count": 9,
   "id": "3752eb73-74b8-419d-9ad3-17a05a21ff55",
   "metadata": {},
   "outputs": [],
   "source": [
    "# import matplotlib.pyplot as plt\n",
    "# signal.hist(bins = 50, figsize=(20, 15))"
   ]
  },
  {
   "cell_type": "markdown",
   "id": "35edc240-0182-4b15-88bf-1a67af9bcba9",
   "metadata": {},
   "source": [
    "## Pair Plot"
   ]
  },
  {
   "cell_type": "code",
   "execution_count": 10,
   "id": "9be3d5a3-7014-44a1-960a-18d935dd6ba1",
   "metadata": {},
   "outputs": [],
   "source": [
    "# import seaborn as sns"
   ]
  },
  {
   "cell_type": "code",
   "execution_count": 11,
   "id": "b157b836-b524-490a-8e05-672cde2afd62",
   "metadata": {},
   "outputs": [],
   "source": [
    "# sns.pairplot(signal, hue = \"TARGET CLASS\")"
   ]
  },
  {
   "cell_type": "code",
   "execution_count": 12,
   "id": "6437c62d-0126-4820-8c24-7ae6ed4866c1",
   "metadata": {},
   "outputs": [],
   "source": [
    "strat_train_set = signal.copy() #copying everything to strat_train_set"
   ]
  },
  {
   "cell_type": "code",
   "execution_count": 13,
   "id": "92ec9f10-7978-4305-99d6-800151f29f05",
   "metadata": {},
   "outputs": [
    {
     "data": {
      "text/plain": [
       "(8640, 627)"
      ]
     },
     "execution_count": 13,
     "metadata": {},
     "output_type": "execute_result"
    }
   ],
   "source": [
    "strat_train_set.shape"
   ]
  },
  {
   "cell_type": "markdown",
   "id": "4faab1df-5438-4fde-81c4-e71404e7730c",
   "metadata": {},
   "source": [
    "## Looking for Correlations"
   ]
  },
  {
   "cell_type": "code",
   "execution_count": 14,
   "id": "77d75593-0ef8-4060-8ec3-d8c9e9a2c043",
   "metadata": {},
   "outputs": [],
   "source": [
    "# corr_matrix = signal.corr()"
   ]
  },
  {
   "cell_type": "code",
   "execution_count": 15,
   "id": "dc6b5f9f-0216-47c2-9adf-b02e535f49c1",
   "metadata": {},
   "outputs": [],
   "source": [
    "# corr_matrix['x'].sort_values(ascending=False)"
   ]
  },
  {
   "cell_type": "code",
   "execution_count": 16,
   "id": "a381f43c-eb76-47ec-836f-cd5098b07dc8",
   "metadata": {},
   "outputs": [],
   "source": [
    "# corr_matrix['y'].sort_values(ascending=False)"
   ]
  },
  {
   "cell_type": "code",
   "execution_count": 17,
   "id": "b4229c13-4884-40ee-aba4-4842bb5ce319",
   "metadata": {},
   "outputs": [],
   "source": [
    "# from pandas.plotting import scatter_matrix\n",
    "# attributes = [\"y\", \"WAP018\", \"x\", \"WAP620\"]\n",
    "# scatter_matrix(signal[attributes], figsize = (12, 8))"
   ]
  },
  {
   "cell_type": "code",
   "execution_count": 18,
   "id": "3ed5010f-a160-4f3d-841c-18628ae16d7b",
   "metadata": {},
   "outputs": [],
   "source": [
    "# signal.plot(kind = \"scatter\", x = \"x\", y = \"y\", alpha = 0.8)"
   ]
  },
  {
   "cell_type": "code",
   "execution_count": 19,
   "id": "772ba70e-a363-4313-b694-a09c03b85c99",
   "metadata": {},
   "outputs": [],
   "source": [
    "signal = strat_train_set.drop(['x', 'y'], axis = 1) #dropping a columns 'x' and 'y' from data frame\n",
    "signal_labels = strat_train_set[['x', 'y']].copy() #selecting only columns 'x' and 'y' from data frame"
   ]
  },
  {
   "cell_type": "markdown",
   "id": "edec8dee-bc40-42e4-affd-8201d50c40df",
   "metadata": {},
   "source": [
    "## Removing Some Attributes"
   ]
  },
  {
   "cell_type": "code",
   "execution_count": 20,
   "id": "a4680723-6535-494b-9aaf-86189c4b0ba4",
   "metadata": {},
   "outputs": [],
   "source": [
    "signal = signal.drop(\"Labels\", axis = 1) #removing Labels data from frame"
   ]
  },
  {
   "cell_type": "code",
   "execution_count": 21,
   "id": "7e45898f-3fc4-45e0-97c6-9b1bebde8352",
   "metadata": {},
   "outputs": [
    {
     "data": {
      "text/plain": [
       "(8640, 624)"
      ]
     },
     "execution_count": 21,
     "metadata": {},
     "output_type": "execute_result"
    }
   ],
   "source": [
    "signal.shape"
   ]
  },
  {
   "cell_type": "code",
   "execution_count": 22,
   "id": "fcb9eedb-4c76-437b-a227-269fcb009ada",
   "metadata": {},
   "outputs": [],
   "source": [
    "signal = signal.drop(\"Actual_labels\", axis = 1) #removing Actual_labels from data frame"
   ]
  },
  {
   "cell_type": "code",
   "execution_count": 23,
   "id": "bb639687-fc6c-46de-bf3d-8dbee149c67f",
   "metadata": {},
   "outputs": [
    {
     "data": {
      "text/plain": [
       "(8640, 623)"
      ]
     },
     "execution_count": 23,
     "metadata": {},
     "output_type": "execute_result"
    }
   ],
   "source": [
    "signal.shape"
   ]
  },
  {
   "cell_type": "code",
   "execution_count": 24,
   "id": "715db777-2a49-4759-842e-fa40d0d237ce",
   "metadata": {},
   "outputs": [
    {
     "data": {
      "text/html": [
       "<div>\n",
       "<style scoped>\n",
       "    .dataframe tbody tr th:only-of-type {\n",
       "        vertical-align: middle;\n",
       "    }\n",
       "\n",
       "    .dataframe tbody tr th {\n",
       "        vertical-align: top;\n",
       "    }\n",
       "\n",
       "    .dataframe thead th {\n",
       "        text-align: right;\n",
       "    }\n",
       "</style>\n",
       "<table border=\"1\" class=\"dataframe\">\n",
       "  <thead>\n",
       "    <tr style=\"text-align: right;\">\n",
       "      <th></th>\n",
       "      <th>WAP001</th>\n",
       "      <th>WAP002</th>\n",
       "      <th>WAP003</th>\n",
       "      <th>WAP004</th>\n",
       "      <th>WAP005</th>\n",
       "      <th>WAP006</th>\n",
       "      <th>WAP007</th>\n",
       "      <th>WAP008</th>\n",
       "      <th>WAP009</th>\n",
       "      <th>WAP010</th>\n",
       "      <th>...</th>\n",
       "      <th>WAP614</th>\n",
       "      <th>WAP615</th>\n",
       "      <th>WAP616</th>\n",
       "      <th>WAP617</th>\n",
       "      <th>WAP618</th>\n",
       "      <th>WAP619</th>\n",
       "      <th>WAP620</th>\n",
       "      <th>id</th>\n",
       "      <th>timestamp</th>\n",
       "      <th>f</th>\n",
       "    </tr>\n",
       "  </thead>\n",
       "  <tbody>\n",
       "    <tr>\n",
       "      <th>count</th>\n",
       "      <td>8640.000000</td>\n",
       "      <td>8640.000000</td>\n",
       "      <td>8640.000000</td>\n",
       "      <td>8640.000000</td>\n",
       "      <td>8640.000000</td>\n",
       "      <td>8640.000000</td>\n",
       "      <td>8640.000000</td>\n",
       "      <td>8640.000000</td>\n",
       "      <td>8640.000000</td>\n",
       "      <td>8640.000000</td>\n",
       "      <td>...</td>\n",
       "      <td>8640.0</td>\n",
       "      <td>8640.0</td>\n",
       "      <td>8640.0</td>\n",
       "      <td>8640.0</td>\n",
       "      <td>8640.0</td>\n",
       "      <td>8640.0</td>\n",
       "      <td>8640.0</td>\n",
       "      <td>8.640000e+03</td>\n",
       "      <td>8.640000e+03</td>\n",
       "      <td>8640.000000</td>\n",
       "    </tr>\n",
       "    <tr>\n",
       "      <th>mean</th>\n",
       "      <td>-7.038310</td>\n",
       "      <td>-3.175926</td>\n",
       "      <td>2.209722</td>\n",
       "      <td>10.110880</td>\n",
       "      <td>59.010764</td>\n",
       "      <td>-7.260532</td>\n",
       "      <td>4.066088</td>\n",
       "      <td>8.981134</td>\n",
       "      <td>10.331944</td>\n",
       "      <td>58.375926</td>\n",
       "      <td>...</td>\n",
       "      <td>100.0</td>\n",
       "      <td>100.0</td>\n",
       "      <td>100.0</td>\n",
       "      <td>100.0</td>\n",
       "      <td>100.0</td>\n",
       "      <td>100.0</td>\n",
       "      <td>100.0</td>\n",
       "      <td>1.081049e+08</td>\n",
       "      <td>2.016062e+16</td>\n",
       "      <td>4.000000</td>\n",
       "    </tr>\n",
       "    <tr>\n",
       "      <th>std</th>\n",
       "      <td>89.807832</td>\n",
       "      <td>88.172132</td>\n",
       "      <td>88.163900</td>\n",
       "      <td>91.235399</td>\n",
       "      <td>77.150028</td>\n",
       "      <td>89.780622</td>\n",
       "      <td>88.206010</td>\n",
       "      <td>91.256607</td>\n",
       "      <td>90.218637</td>\n",
       "      <td>77.588284</td>\n",
       "      <td>...</td>\n",
       "      <td>0.0</td>\n",
       "      <td>0.0</td>\n",
       "      <td>0.0</td>\n",
       "      <td>0.0</td>\n",
       "      <td>0.0</td>\n",
       "      <td>0.0</td>\n",
       "      <td>0.0</td>\n",
       "      <td>4.320745e+06</td>\n",
       "      <td>6.685720e+09</td>\n",
       "      <td>1.000058</td>\n",
       "    </tr>\n",
       "    <tr>\n",
       "      <th>min</th>\n",
       "      <td>-97.000000</td>\n",
       "      <td>-97.000000</td>\n",
       "      <td>-95.000000</td>\n",
       "      <td>-95.000000</td>\n",
       "      <td>-97.000000</td>\n",
       "      <td>-98.000000</td>\n",
       "      <td>-95.000000</td>\n",
       "      <td>-95.000000</td>\n",
       "      <td>-98.000000</td>\n",
       "      <td>-96.000000</td>\n",
       "      <td>...</td>\n",
       "      <td>100.0</td>\n",
       "      <td>100.0</td>\n",
       "      <td>100.0</td>\n",
       "      <td>100.0</td>\n",
       "      <td>100.0</td>\n",
       "      <td>100.0</td>\n",
       "      <td>100.0</td>\n",
       "      <td>1.011001e+08</td>\n",
       "      <td>2.016060e+16</td>\n",
       "      <td>3.000000</td>\n",
       "    </tr>\n",
       "    <tr>\n",
       "      <th>25%</th>\n",
       "      <td>-85.000000</td>\n",
       "      <td>-82.000000</td>\n",
       "      <td>-80.000000</td>\n",
       "      <td>-83.000000</td>\n",
       "      <td>100.000000</td>\n",
       "      <td>-85.000000</td>\n",
       "      <td>-79.000000</td>\n",
       "      <td>-83.000000</td>\n",
       "      <td>-82.000000</td>\n",
       "      <td>100.000000</td>\n",
       "      <td>...</td>\n",
       "      <td>100.0</td>\n",
       "      <td>100.0</td>\n",
       "      <td>100.0</td>\n",
       "      <td>100.0</td>\n",
       "      <td>100.0</td>\n",
       "      <td>100.0</td>\n",
       "      <td>100.0</td>\n",
       "      <td>1.041073e+08</td>\n",
       "      <td>2.016061e+16</td>\n",
       "      <td>3.000000</td>\n",
       "    </tr>\n",
       "    <tr>\n",
       "      <th>50%</th>\n",
       "      <td>-75.000000</td>\n",
       "      <td>-64.000000</td>\n",
       "      <td>-62.000000</td>\n",
       "      <td>100.000000</td>\n",
       "      <td>100.000000</td>\n",
       "      <td>-75.000000</td>\n",
       "      <td>-61.000000</td>\n",
       "      <td>100.000000</td>\n",
       "      <td>100.000000</td>\n",
       "      <td>100.000000</td>\n",
       "      <td>...</td>\n",
       "      <td>100.0</td>\n",
       "      <td>100.0</td>\n",
       "      <td>100.0</td>\n",
       "      <td>100.0</td>\n",
       "      <td>100.0</td>\n",
       "      <td>100.0</td>\n",
       "      <td>100.0</td>\n",
       "      <td>1.081049e+08</td>\n",
       "      <td>2.016062e+16</td>\n",
       "      <td>4.000000</td>\n",
       "    </tr>\n",
       "    <tr>\n",
       "      <th>75%</th>\n",
       "      <td>100.000000</td>\n",
       "      <td>100.000000</td>\n",
       "      <td>100.000000</td>\n",
       "      <td>100.000000</td>\n",
       "      <td>100.000000</td>\n",
       "      <td>100.000000</td>\n",
       "      <td>100.000000</td>\n",
       "      <td>100.000000</td>\n",
       "      <td>100.000000</td>\n",
       "      <td>100.000000</td>\n",
       "      <td>...</td>\n",
       "      <td>100.0</td>\n",
       "      <td>100.0</td>\n",
       "      <td>100.0</td>\n",
       "      <td>100.0</td>\n",
       "      <td>100.0</td>\n",
       "      <td>100.0</td>\n",
       "      <td>100.0</td>\n",
       "      <td>1.121024e+08</td>\n",
       "      <td>2.016062e+16</td>\n",
       "      <td>5.000000</td>\n",
       "    </tr>\n",
       "    <tr>\n",
       "      <th>max</th>\n",
       "      <td>100.000000</td>\n",
       "      <td>100.000000</td>\n",
       "      <td>100.000000</td>\n",
       "      <td>100.000000</td>\n",
       "      <td>100.000000</td>\n",
       "      <td>100.000000</td>\n",
       "      <td>100.000000</td>\n",
       "      <td>100.000000</td>\n",
       "      <td>100.000000</td>\n",
       "      <td>100.000000</td>\n",
       "      <td>...</td>\n",
       "      <td>100.0</td>\n",
       "      <td>100.0</td>\n",
       "      <td>100.0</td>\n",
       "      <td>100.0</td>\n",
       "      <td>100.0</td>\n",
       "      <td>100.0</td>\n",
       "      <td>100.0</td>\n",
       "      <td>1.151096e+08</td>\n",
       "      <td>2.016062e+16</td>\n",
       "      <td>5.000000</td>\n",
       "    </tr>\n",
       "  </tbody>\n",
       "</table>\n",
       "<p>8 rows × 623 columns</p>\n",
       "</div>"
      ],
      "text/plain": [
       "            WAP001       WAP002       WAP003       WAP004       WAP005  \\\n",
       "count  8640.000000  8640.000000  8640.000000  8640.000000  8640.000000   \n",
       "mean     -7.038310    -3.175926     2.209722    10.110880    59.010764   \n",
       "std      89.807832    88.172132    88.163900    91.235399    77.150028   \n",
       "min     -97.000000   -97.000000   -95.000000   -95.000000   -97.000000   \n",
       "25%     -85.000000   -82.000000   -80.000000   -83.000000   100.000000   \n",
       "50%     -75.000000   -64.000000   -62.000000   100.000000   100.000000   \n",
       "75%     100.000000   100.000000   100.000000   100.000000   100.000000   \n",
       "max     100.000000   100.000000   100.000000   100.000000   100.000000   \n",
       "\n",
       "            WAP006       WAP007       WAP008       WAP009       WAP010  ...  \\\n",
       "count  8640.000000  8640.000000  8640.000000  8640.000000  8640.000000  ...   \n",
       "mean     -7.260532     4.066088     8.981134    10.331944    58.375926  ...   \n",
       "std      89.780622    88.206010    91.256607    90.218637    77.588284  ...   \n",
       "min     -98.000000   -95.000000   -95.000000   -98.000000   -96.000000  ...   \n",
       "25%     -85.000000   -79.000000   -83.000000   -82.000000   100.000000  ...   \n",
       "50%     -75.000000   -61.000000   100.000000   100.000000   100.000000  ...   \n",
       "75%     100.000000   100.000000   100.000000   100.000000   100.000000  ...   \n",
       "max     100.000000   100.000000   100.000000   100.000000   100.000000  ...   \n",
       "\n",
       "       WAP614  WAP615  WAP616  WAP617  WAP618  WAP619  WAP620            id  \\\n",
       "count  8640.0  8640.0  8640.0  8640.0  8640.0  8640.0  8640.0  8.640000e+03   \n",
       "mean    100.0   100.0   100.0   100.0   100.0   100.0   100.0  1.081049e+08   \n",
       "std       0.0     0.0     0.0     0.0     0.0     0.0     0.0  4.320745e+06   \n",
       "min     100.0   100.0   100.0   100.0   100.0   100.0   100.0  1.011001e+08   \n",
       "25%     100.0   100.0   100.0   100.0   100.0   100.0   100.0  1.041073e+08   \n",
       "50%     100.0   100.0   100.0   100.0   100.0   100.0   100.0  1.081049e+08   \n",
       "75%     100.0   100.0   100.0   100.0   100.0   100.0   100.0  1.121024e+08   \n",
       "max     100.0   100.0   100.0   100.0   100.0   100.0   100.0  1.151096e+08   \n",
       "\n",
       "          timestamp            f  \n",
       "count  8.640000e+03  8640.000000  \n",
       "mean   2.016062e+16     4.000000  \n",
       "std    6.685720e+09     1.000058  \n",
       "min    2.016060e+16     3.000000  \n",
       "25%    2.016061e+16     3.000000  \n",
       "50%    2.016062e+16     4.000000  \n",
       "75%    2.016062e+16     5.000000  \n",
       "max    2.016062e+16     5.000000  \n",
       "\n",
       "[8 rows x 623 columns]"
      ]
     },
     "execution_count": 24,
     "metadata": {},
     "output_type": "execute_result"
    }
   ],
   "source": [
    "signal.describe()"
   ]
  },
  {
   "cell_type": "code",
   "execution_count": 25,
   "id": "423b7e7f-05e3-4c2e-ac42-7a5f329f42b1",
   "metadata": {},
   "outputs": [],
   "source": [
    "signal.rename(columns = {'f': 'Floor Number'}, inplace = True) #renaming f to Floor Number"
   ]
  },
  {
   "cell_type": "code",
   "execution_count": 26,
   "id": "167be90d-2179-4fae-b0cf-664c61ebba34",
   "metadata": {},
   "outputs": [
    {
     "data": {
      "text/html": [
       "<div>\n",
       "<style scoped>\n",
       "    .dataframe tbody tr th:only-of-type {\n",
       "        vertical-align: middle;\n",
       "    }\n",
       "\n",
       "    .dataframe tbody tr th {\n",
       "        vertical-align: top;\n",
       "    }\n",
       "\n",
       "    .dataframe thead th {\n",
       "        text-align: right;\n",
       "    }\n",
       "</style>\n",
       "<table border=\"1\" class=\"dataframe\">\n",
       "  <thead>\n",
       "    <tr style=\"text-align: right;\">\n",
       "      <th></th>\n",
       "      <th>WAP001</th>\n",
       "      <th>WAP002</th>\n",
       "      <th>WAP003</th>\n",
       "      <th>WAP004</th>\n",
       "      <th>WAP005</th>\n",
       "      <th>WAP006</th>\n",
       "      <th>WAP007</th>\n",
       "      <th>WAP008</th>\n",
       "      <th>WAP009</th>\n",
       "      <th>WAP010</th>\n",
       "      <th>...</th>\n",
       "      <th>WAP614</th>\n",
       "      <th>WAP615</th>\n",
       "      <th>WAP616</th>\n",
       "      <th>WAP617</th>\n",
       "      <th>WAP618</th>\n",
       "      <th>WAP619</th>\n",
       "      <th>WAP620</th>\n",
       "      <th>id</th>\n",
       "      <th>timestamp</th>\n",
       "      <th>Floor Number</th>\n",
       "    </tr>\n",
       "  </thead>\n",
       "  <tbody>\n",
       "    <tr>\n",
       "      <th>count</th>\n",
       "      <td>8640.000000</td>\n",
       "      <td>8640.000000</td>\n",
       "      <td>8640.000000</td>\n",
       "      <td>8640.000000</td>\n",
       "      <td>8640.000000</td>\n",
       "      <td>8640.000000</td>\n",
       "      <td>8640.000000</td>\n",
       "      <td>8640.000000</td>\n",
       "      <td>8640.000000</td>\n",
       "      <td>8640.000000</td>\n",
       "      <td>...</td>\n",
       "      <td>8640.0</td>\n",
       "      <td>8640.0</td>\n",
       "      <td>8640.0</td>\n",
       "      <td>8640.0</td>\n",
       "      <td>8640.0</td>\n",
       "      <td>8640.0</td>\n",
       "      <td>8640.0</td>\n",
       "      <td>8.640000e+03</td>\n",
       "      <td>8.640000e+03</td>\n",
       "      <td>8640.000000</td>\n",
       "    </tr>\n",
       "    <tr>\n",
       "      <th>mean</th>\n",
       "      <td>-7.038310</td>\n",
       "      <td>-3.175926</td>\n",
       "      <td>2.209722</td>\n",
       "      <td>10.110880</td>\n",
       "      <td>59.010764</td>\n",
       "      <td>-7.260532</td>\n",
       "      <td>4.066088</td>\n",
       "      <td>8.981134</td>\n",
       "      <td>10.331944</td>\n",
       "      <td>58.375926</td>\n",
       "      <td>...</td>\n",
       "      <td>100.0</td>\n",
       "      <td>100.0</td>\n",
       "      <td>100.0</td>\n",
       "      <td>100.0</td>\n",
       "      <td>100.0</td>\n",
       "      <td>100.0</td>\n",
       "      <td>100.0</td>\n",
       "      <td>1.081049e+08</td>\n",
       "      <td>2.016062e+16</td>\n",
       "      <td>4.000000</td>\n",
       "    </tr>\n",
       "    <tr>\n",
       "      <th>std</th>\n",
       "      <td>89.807832</td>\n",
       "      <td>88.172132</td>\n",
       "      <td>88.163900</td>\n",
       "      <td>91.235399</td>\n",
       "      <td>77.150028</td>\n",
       "      <td>89.780622</td>\n",
       "      <td>88.206010</td>\n",
       "      <td>91.256607</td>\n",
       "      <td>90.218637</td>\n",
       "      <td>77.588284</td>\n",
       "      <td>...</td>\n",
       "      <td>0.0</td>\n",
       "      <td>0.0</td>\n",
       "      <td>0.0</td>\n",
       "      <td>0.0</td>\n",
       "      <td>0.0</td>\n",
       "      <td>0.0</td>\n",
       "      <td>0.0</td>\n",
       "      <td>4.320745e+06</td>\n",
       "      <td>6.685720e+09</td>\n",
       "      <td>1.000058</td>\n",
       "    </tr>\n",
       "    <tr>\n",
       "      <th>min</th>\n",
       "      <td>-97.000000</td>\n",
       "      <td>-97.000000</td>\n",
       "      <td>-95.000000</td>\n",
       "      <td>-95.000000</td>\n",
       "      <td>-97.000000</td>\n",
       "      <td>-98.000000</td>\n",
       "      <td>-95.000000</td>\n",
       "      <td>-95.000000</td>\n",
       "      <td>-98.000000</td>\n",
       "      <td>-96.000000</td>\n",
       "      <td>...</td>\n",
       "      <td>100.0</td>\n",
       "      <td>100.0</td>\n",
       "      <td>100.0</td>\n",
       "      <td>100.0</td>\n",
       "      <td>100.0</td>\n",
       "      <td>100.0</td>\n",
       "      <td>100.0</td>\n",
       "      <td>1.011001e+08</td>\n",
       "      <td>2.016060e+16</td>\n",
       "      <td>3.000000</td>\n",
       "    </tr>\n",
       "    <tr>\n",
       "      <th>25%</th>\n",
       "      <td>-85.000000</td>\n",
       "      <td>-82.000000</td>\n",
       "      <td>-80.000000</td>\n",
       "      <td>-83.000000</td>\n",
       "      <td>100.000000</td>\n",
       "      <td>-85.000000</td>\n",
       "      <td>-79.000000</td>\n",
       "      <td>-83.000000</td>\n",
       "      <td>-82.000000</td>\n",
       "      <td>100.000000</td>\n",
       "      <td>...</td>\n",
       "      <td>100.0</td>\n",
       "      <td>100.0</td>\n",
       "      <td>100.0</td>\n",
       "      <td>100.0</td>\n",
       "      <td>100.0</td>\n",
       "      <td>100.0</td>\n",
       "      <td>100.0</td>\n",
       "      <td>1.041073e+08</td>\n",
       "      <td>2.016061e+16</td>\n",
       "      <td>3.000000</td>\n",
       "    </tr>\n",
       "    <tr>\n",
       "      <th>50%</th>\n",
       "      <td>-75.000000</td>\n",
       "      <td>-64.000000</td>\n",
       "      <td>-62.000000</td>\n",
       "      <td>100.000000</td>\n",
       "      <td>100.000000</td>\n",
       "      <td>-75.000000</td>\n",
       "      <td>-61.000000</td>\n",
       "      <td>100.000000</td>\n",
       "      <td>100.000000</td>\n",
       "      <td>100.000000</td>\n",
       "      <td>...</td>\n",
       "      <td>100.0</td>\n",
       "      <td>100.0</td>\n",
       "      <td>100.0</td>\n",
       "      <td>100.0</td>\n",
       "      <td>100.0</td>\n",
       "      <td>100.0</td>\n",
       "      <td>100.0</td>\n",
       "      <td>1.081049e+08</td>\n",
       "      <td>2.016062e+16</td>\n",
       "      <td>4.000000</td>\n",
       "    </tr>\n",
       "    <tr>\n",
       "      <th>75%</th>\n",
       "      <td>100.000000</td>\n",
       "      <td>100.000000</td>\n",
       "      <td>100.000000</td>\n",
       "      <td>100.000000</td>\n",
       "      <td>100.000000</td>\n",
       "      <td>100.000000</td>\n",
       "      <td>100.000000</td>\n",
       "      <td>100.000000</td>\n",
       "      <td>100.000000</td>\n",
       "      <td>100.000000</td>\n",
       "      <td>...</td>\n",
       "      <td>100.0</td>\n",
       "      <td>100.0</td>\n",
       "      <td>100.0</td>\n",
       "      <td>100.0</td>\n",
       "      <td>100.0</td>\n",
       "      <td>100.0</td>\n",
       "      <td>100.0</td>\n",
       "      <td>1.121024e+08</td>\n",
       "      <td>2.016062e+16</td>\n",
       "      <td>5.000000</td>\n",
       "    </tr>\n",
       "    <tr>\n",
       "      <th>max</th>\n",
       "      <td>100.000000</td>\n",
       "      <td>100.000000</td>\n",
       "      <td>100.000000</td>\n",
       "      <td>100.000000</td>\n",
       "      <td>100.000000</td>\n",
       "      <td>100.000000</td>\n",
       "      <td>100.000000</td>\n",
       "      <td>100.000000</td>\n",
       "      <td>100.000000</td>\n",
       "      <td>100.000000</td>\n",
       "      <td>...</td>\n",
       "      <td>100.0</td>\n",
       "      <td>100.0</td>\n",
       "      <td>100.0</td>\n",
       "      <td>100.0</td>\n",
       "      <td>100.0</td>\n",
       "      <td>100.0</td>\n",
       "      <td>100.0</td>\n",
       "      <td>1.151096e+08</td>\n",
       "      <td>2.016062e+16</td>\n",
       "      <td>5.000000</td>\n",
       "    </tr>\n",
       "  </tbody>\n",
       "</table>\n",
       "<p>8 rows × 623 columns</p>\n",
       "</div>"
      ],
      "text/plain": [
       "            WAP001       WAP002       WAP003       WAP004       WAP005  \\\n",
       "count  8640.000000  8640.000000  8640.000000  8640.000000  8640.000000   \n",
       "mean     -7.038310    -3.175926     2.209722    10.110880    59.010764   \n",
       "std      89.807832    88.172132    88.163900    91.235399    77.150028   \n",
       "min     -97.000000   -97.000000   -95.000000   -95.000000   -97.000000   \n",
       "25%     -85.000000   -82.000000   -80.000000   -83.000000   100.000000   \n",
       "50%     -75.000000   -64.000000   -62.000000   100.000000   100.000000   \n",
       "75%     100.000000   100.000000   100.000000   100.000000   100.000000   \n",
       "max     100.000000   100.000000   100.000000   100.000000   100.000000   \n",
       "\n",
       "            WAP006       WAP007       WAP008       WAP009       WAP010  ...  \\\n",
       "count  8640.000000  8640.000000  8640.000000  8640.000000  8640.000000  ...   \n",
       "mean     -7.260532     4.066088     8.981134    10.331944    58.375926  ...   \n",
       "std      89.780622    88.206010    91.256607    90.218637    77.588284  ...   \n",
       "min     -98.000000   -95.000000   -95.000000   -98.000000   -96.000000  ...   \n",
       "25%     -85.000000   -79.000000   -83.000000   -82.000000   100.000000  ...   \n",
       "50%     -75.000000   -61.000000   100.000000   100.000000   100.000000  ...   \n",
       "75%     100.000000   100.000000   100.000000   100.000000   100.000000  ...   \n",
       "max     100.000000   100.000000   100.000000   100.000000   100.000000  ...   \n",
       "\n",
       "       WAP614  WAP615  WAP616  WAP617  WAP618  WAP619  WAP620            id  \\\n",
       "count  8640.0  8640.0  8640.0  8640.0  8640.0  8640.0  8640.0  8.640000e+03   \n",
       "mean    100.0   100.0   100.0   100.0   100.0   100.0   100.0  1.081049e+08   \n",
       "std       0.0     0.0     0.0     0.0     0.0     0.0     0.0  4.320745e+06   \n",
       "min     100.0   100.0   100.0   100.0   100.0   100.0   100.0  1.011001e+08   \n",
       "25%     100.0   100.0   100.0   100.0   100.0   100.0   100.0  1.041073e+08   \n",
       "50%     100.0   100.0   100.0   100.0   100.0   100.0   100.0  1.081049e+08   \n",
       "75%     100.0   100.0   100.0   100.0   100.0   100.0   100.0  1.121024e+08   \n",
       "max     100.0   100.0   100.0   100.0   100.0   100.0   100.0  1.151096e+08   \n",
       "\n",
       "          timestamp  Floor Number  \n",
       "count  8.640000e+03   8640.000000  \n",
       "mean   2.016062e+16      4.000000  \n",
       "std    6.685720e+09      1.000058  \n",
       "min    2.016060e+16      3.000000  \n",
       "25%    2.016061e+16      3.000000  \n",
       "50%    2.016062e+16      4.000000  \n",
       "75%    2.016062e+16      5.000000  \n",
       "max    2.016062e+16      5.000000  \n",
       "\n",
       "[8 rows x 623 columns]"
      ]
     },
     "execution_count": 26,
     "metadata": {},
     "output_type": "execute_result"
    }
   ],
   "source": [
    "signal.describe()"
   ]
  },
  {
   "cell_type": "code",
   "execution_count": 27,
   "id": "6084952e-ac0c-404b-ae0e-2f4664234760",
   "metadata": {},
   "outputs": [],
   "source": [
    "signal_shape = signal.shape"
   ]
  },
  {
   "cell_type": "code",
   "execution_count": 28,
   "id": "5678ca2f-9594-49b1-8551-0c33d4cc3574",
   "metadata": {},
   "outputs": [
    {
     "name": "stdout",
     "output_type": "stream",
     "text": [
      "(8640, 623)\n"
     ]
    }
   ],
   "source": [
    "print(signal_shape)"
   ]
  },
  {
   "cell_type": "markdown",
   "id": "1f18b19b-265c-46cb-a8c5-d79129284594",
   "metadata": {},
   "source": [
    "## Creating a Pipeline"
   ]
  },
  {
   "cell_type": "code",
   "execution_count": 29,
   "id": "f1f642ec-6723-4495-b7a7-54f478a09e19",
   "metadata": {},
   "outputs": [],
   "source": [
    "from sklearn.pipeline import Pipeline\n",
    "from sklearn.preprocessing import StandardScaler\n",
    "from sklearn.impute import SimpleImputer\n",
    "my_pipeline = Pipeline([\n",
    "    ('imputer', SimpleImputer(strategy = \"median\")),\n",
    "    # ... import as many as we want in our pipeline\n",
    "    ('std_scaler', StandardScaler()),\n",
    "])"
   ]
  },
  {
   "cell_type": "code",
   "execution_count": 30,
   "id": "30c01502-6771-40b3-bb07-118335b9ce5c",
   "metadata": {},
   "outputs": [],
   "source": [
    "signal_num_tr = my_pipeline.fit_transform(signal)"
   ]
  },
  {
   "cell_type": "code",
   "execution_count": 31,
   "id": "4cef422d-08d3-43be-8109-33c76f9a3e20",
   "metadata": {},
   "outputs": [
    {
     "data": {
      "text/plain": [
       "array([[-0.92382245, -0.66718902, -0.8077438 , ..., -1.62128483,\n",
       "        -2.00280504, -1.        ],\n",
       "       [-0.95722904, -0.70121535, -0.78505746, ..., -1.6212846 ,\n",
       "        -2.00280452, -1.        ],\n",
       "       [-0.90155138, -0.68987324, -0.79640063, ..., -1.62128437,\n",
       "        -2.00280398, -1.        ],\n",
       "       ...,\n",
       "       [-0.81246714, -0.86000486, -0.97789131, ...,  1.62128437,\n",
       "         0.99635748,  1.        ],\n",
       "       [-0.79019608, -0.84866276, -0.95520498, ...,  1.6212846 ,\n",
       "         0.99635813,  1.        ],\n",
       "       [-0.76792502, -0.84866276, -1.01192081, ...,  1.62128483,\n",
       "         0.99635878,  1.        ]])"
      ]
     },
     "execution_count": 31,
     "metadata": {},
     "output_type": "execute_result"
    }
   ],
   "source": [
    "signal_num_tr"
   ]
  },
  {
   "cell_type": "code",
   "execution_count": 32,
   "id": "e22169fa-ca16-4679-ba88-1a9a1b4838d0",
   "metadata": {},
   "outputs": [
    {
     "data": {
      "text/plain": [
       "(8640, 623)"
      ]
     },
     "execution_count": 32,
     "metadata": {},
     "output_type": "execute_result"
    }
   ],
   "source": [
    "signal_num_tr.shape"
   ]
  },
  {
   "cell_type": "markdown",
   "id": "843a7718-2c8b-4893-8a69-e7b5f499c7dd",
   "metadata": {},
   "source": [
    "## Selecting a Desired Model"
   ]
  },
  {
   "cell_type": "code",
   "execution_count": 33,
   "id": "1af8b61f-991c-4ea5-9483-00bda99b18d5",
   "metadata": {},
   "outputs": [
    {
     "data": {
      "text/html": [
       "<style>#sk-container-id-1 {\n",
       "  /* Definition of color scheme common for light and dark mode */\n",
       "  --sklearn-color-text: black;\n",
       "  --sklearn-color-line: gray;\n",
       "  /* Definition of color scheme for unfitted estimators */\n",
       "  --sklearn-color-unfitted-level-0: #fff5e6;\n",
       "  --sklearn-color-unfitted-level-1: #f6e4d2;\n",
       "  --sklearn-color-unfitted-level-2: #ffe0b3;\n",
       "  --sklearn-color-unfitted-level-3: chocolate;\n",
       "  /* Definition of color scheme for fitted estimators */\n",
       "  --sklearn-color-fitted-level-0: #f0f8ff;\n",
       "  --sklearn-color-fitted-level-1: #d4ebff;\n",
       "  --sklearn-color-fitted-level-2: #b3dbfd;\n",
       "  --sklearn-color-fitted-level-3: cornflowerblue;\n",
       "\n",
       "  /* Specific color for light theme */\n",
       "  --sklearn-color-text-on-default-background: var(--sg-text-color, var(--theme-code-foreground, var(--jp-content-font-color1, black)));\n",
       "  --sklearn-color-background: var(--sg-background-color, var(--theme-background, var(--jp-layout-color0, white)));\n",
       "  --sklearn-color-border-box: var(--sg-text-color, var(--theme-code-foreground, var(--jp-content-font-color1, black)));\n",
       "  --sklearn-color-icon: #696969;\n",
       "\n",
       "  @media (prefers-color-scheme: dark) {\n",
       "    /* Redefinition of color scheme for dark theme */\n",
       "    --sklearn-color-text-on-default-background: var(--sg-text-color, var(--theme-code-foreground, var(--jp-content-font-color1, white)));\n",
       "    --sklearn-color-background: var(--sg-background-color, var(--theme-background, var(--jp-layout-color0, #111)));\n",
       "    --sklearn-color-border-box: var(--sg-text-color, var(--theme-code-foreground, var(--jp-content-font-color1, white)));\n",
       "    --sklearn-color-icon: #878787;\n",
       "  }\n",
       "}\n",
       "\n",
       "#sk-container-id-1 {\n",
       "  color: var(--sklearn-color-text);\n",
       "}\n",
       "\n",
       "#sk-container-id-1 pre {\n",
       "  padding: 0;\n",
       "}\n",
       "\n",
       "#sk-container-id-1 input.sk-hidden--visually {\n",
       "  border: 0;\n",
       "  clip: rect(1px 1px 1px 1px);\n",
       "  clip: rect(1px, 1px, 1px, 1px);\n",
       "  height: 1px;\n",
       "  margin: -1px;\n",
       "  overflow: hidden;\n",
       "  padding: 0;\n",
       "  position: absolute;\n",
       "  width: 1px;\n",
       "}\n",
       "\n",
       "#sk-container-id-1 div.sk-dashed-wrapped {\n",
       "  border: 1px dashed var(--sklearn-color-line);\n",
       "  margin: 0 0.4em 0.5em 0.4em;\n",
       "  box-sizing: border-box;\n",
       "  padding-bottom: 0.4em;\n",
       "  background-color: var(--sklearn-color-background);\n",
       "}\n",
       "\n",
       "#sk-container-id-1 div.sk-container {\n",
       "  /* jupyter's `normalize.less` sets `[hidden] { display: none; }`\n",
       "     but bootstrap.min.css set `[hidden] { display: none !important; }`\n",
       "     so we also need the `!important` here to be able to override the\n",
       "     default hidden behavior on the sphinx rendered scikit-learn.org.\n",
       "     See: https://github.com/scikit-learn/scikit-learn/issues/21755 */\n",
       "  display: inline-block !important;\n",
       "  position: relative;\n",
       "}\n",
       "\n",
       "#sk-container-id-1 div.sk-text-repr-fallback {\n",
       "  display: none;\n",
       "}\n",
       "\n",
       "div.sk-parallel-item,\n",
       "div.sk-serial,\n",
       "div.sk-item {\n",
       "  /* draw centered vertical line to link estimators */\n",
       "  background-image: linear-gradient(var(--sklearn-color-text-on-default-background), var(--sklearn-color-text-on-default-background));\n",
       "  background-size: 2px 100%;\n",
       "  background-repeat: no-repeat;\n",
       "  background-position: center center;\n",
       "}\n",
       "\n",
       "/* Parallel-specific style estimator block */\n",
       "\n",
       "#sk-container-id-1 div.sk-parallel-item::after {\n",
       "  content: \"\";\n",
       "  width: 100%;\n",
       "  border-bottom: 2px solid var(--sklearn-color-text-on-default-background);\n",
       "  flex-grow: 1;\n",
       "}\n",
       "\n",
       "#sk-container-id-1 div.sk-parallel {\n",
       "  display: flex;\n",
       "  align-items: stretch;\n",
       "  justify-content: center;\n",
       "  background-color: var(--sklearn-color-background);\n",
       "  position: relative;\n",
       "}\n",
       "\n",
       "#sk-container-id-1 div.sk-parallel-item {\n",
       "  display: flex;\n",
       "  flex-direction: column;\n",
       "}\n",
       "\n",
       "#sk-container-id-1 div.sk-parallel-item:first-child::after {\n",
       "  align-self: flex-end;\n",
       "  width: 50%;\n",
       "}\n",
       "\n",
       "#sk-container-id-1 div.sk-parallel-item:last-child::after {\n",
       "  align-self: flex-start;\n",
       "  width: 50%;\n",
       "}\n",
       "\n",
       "#sk-container-id-1 div.sk-parallel-item:only-child::after {\n",
       "  width: 0;\n",
       "}\n",
       "\n",
       "/* Serial-specific style estimator block */\n",
       "\n",
       "#sk-container-id-1 div.sk-serial {\n",
       "  display: flex;\n",
       "  flex-direction: column;\n",
       "  align-items: center;\n",
       "  background-color: var(--sklearn-color-background);\n",
       "  padding-right: 1em;\n",
       "  padding-left: 1em;\n",
       "}\n",
       "\n",
       "\n",
       "/* Toggleable style: style used for estimator/Pipeline/ColumnTransformer box that is\n",
       "clickable and can be expanded/collapsed.\n",
       "- Pipeline and ColumnTransformer use this feature and define the default style\n",
       "- Estimators will overwrite some part of the style using the `sk-estimator` class\n",
       "*/\n",
       "\n",
       "/* Pipeline and ColumnTransformer style (default) */\n",
       "\n",
       "#sk-container-id-1 div.sk-toggleable {\n",
       "  /* Default theme specific background. It is overwritten whether we have a\n",
       "  specific estimator or a Pipeline/ColumnTransformer */\n",
       "  background-color: var(--sklearn-color-background);\n",
       "}\n",
       "\n",
       "/* Toggleable label */\n",
       "#sk-container-id-1 label.sk-toggleable__label {\n",
       "  cursor: pointer;\n",
       "  display: block;\n",
       "  width: 100%;\n",
       "  margin-bottom: 0;\n",
       "  padding: 0.5em;\n",
       "  box-sizing: border-box;\n",
       "  text-align: center;\n",
       "}\n",
       "\n",
       "#sk-container-id-1 label.sk-toggleable__label-arrow:before {\n",
       "  /* Arrow on the left of the label */\n",
       "  content: \"▸\";\n",
       "  float: left;\n",
       "  margin-right: 0.25em;\n",
       "  color: var(--sklearn-color-icon);\n",
       "}\n",
       "\n",
       "#sk-container-id-1 label.sk-toggleable__label-arrow:hover:before {\n",
       "  color: var(--sklearn-color-text);\n",
       "}\n",
       "\n",
       "/* Toggleable content - dropdown */\n",
       "\n",
       "#sk-container-id-1 div.sk-toggleable__content {\n",
       "  max-height: 0;\n",
       "  max-width: 0;\n",
       "  overflow: hidden;\n",
       "  text-align: left;\n",
       "  /* unfitted */\n",
       "  background-color: var(--sklearn-color-unfitted-level-0);\n",
       "}\n",
       "\n",
       "#sk-container-id-1 div.sk-toggleable__content.fitted {\n",
       "  /* fitted */\n",
       "  background-color: var(--sklearn-color-fitted-level-0);\n",
       "}\n",
       "\n",
       "#sk-container-id-1 div.sk-toggleable__content pre {\n",
       "  margin: 0.2em;\n",
       "  border-radius: 0.25em;\n",
       "  color: var(--sklearn-color-text);\n",
       "  /* unfitted */\n",
       "  background-color: var(--sklearn-color-unfitted-level-0);\n",
       "}\n",
       "\n",
       "#sk-container-id-1 div.sk-toggleable__content.fitted pre {\n",
       "  /* unfitted */\n",
       "  background-color: var(--sklearn-color-fitted-level-0);\n",
       "}\n",
       "\n",
       "#sk-container-id-1 input.sk-toggleable__control:checked~div.sk-toggleable__content {\n",
       "  /* Expand drop-down */\n",
       "  max-height: 200px;\n",
       "  max-width: 100%;\n",
       "  overflow: auto;\n",
       "}\n",
       "\n",
       "#sk-container-id-1 input.sk-toggleable__control:checked~label.sk-toggleable__label-arrow:before {\n",
       "  content: \"▾\";\n",
       "}\n",
       "\n",
       "/* Pipeline/ColumnTransformer-specific style */\n",
       "\n",
       "#sk-container-id-1 div.sk-label input.sk-toggleable__control:checked~label.sk-toggleable__label {\n",
       "  color: var(--sklearn-color-text);\n",
       "  background-color: var(--sklearn-color-unfitted-level-2);\n",
       "}\n",
       "\n",
       "#sk-container-id-1 div.sk-label.fitted input.sk-toggleable__control:checked~label.sk-toggleable__label {\n",
       "  background-color: var(--sklearn-color-fitted-level-2);\n",
       "}\n",
       "\n",
       "/* Estimator-specific style */\n",
       "\n",
       "/* Colorize estimator box */\n",
       "#sk-container-id-1 div.sk-estimator input.sk-toggleable__control:checked~label.sk-toggleable__label {\n",
       "  /* unfitted */\n",
       "  background-color: var(--sklearn-color-unfitted-level-2);\n",
       "}\n",
       "\n",
       "#sk-container-id-1 div.sk-estimator.fitted input.sk-toggleable__control:checked~label.sk-toggleable__label {\n",
       "  /* fitted */\n",
       "  background-color: var(--sklearn-color-fitted-level-2);\n",
       "}\n",
       "\n",
       "#sk-container-id-1 div.sk-label label.sk-toggleable__label,\n",
       "#sk-container-id-1 div.sk-label label {\n",
       "  /* The background is the default theme color */\n",
       "  color: var(--sklearn-color-text-on-default-background);\n",
       "}\n",
       "\n",
       "/* On hover, darken the color of the background */\n",
       "#sk-container-id-1 div.sk-label:hover label.sk-toggleable__label {\n",
       "  color: var(--sklearn-color-text);\n",
       "  background-color: var(--sklearn-color-unfitted-level-2);\n",
       "}\n",
       "\n",
       "/* Label box, darken color on hover, fitted */\n",
       "#sk-container-id-1 div.sk-label.fitted:hover label.sk-toggleable__label.fitted {\n",
       "  color: var(--sklearn-color-text);\n",
       "  background-color: var(--sklearn-color-fitted-level-2);\n",
       "}\n",
       "\n",
       "/* Estimator label */\n",
       "\n",
       "#sk-container-id-1 div.sk-label label {\n",
       "  font-family: monospace;\n",
       "  font-weight: bold;\n",
       "  display: inline-block;\n",
       "  line-height: 1.2em;\n",
       "}\n",
       "\n",
       "#sk-container-id-1 div.sk-label-container {\n",
       "  text-align: center;\n",
       "}\n",
       "\n",
       "/* Estimator-specific */\n",
       "#sk-container-id-1 div.sk-estimator {\n",
       "  font-family: monospace;\n",
       "  border: 1px dotted var(--sklearn-color-border-box);\n",
       "  border-radius: 0.25em;\n",
       "  box-sizing: border-box;\n",
       "  margin-bottom: 0.5em;\n",
       "  /* unfitted */\n",
       "  background-color: var(--sklearn-color-unfitted-level-0);\n",
       "}\n",
       "\n",
       "#sk-container-id-1 div.sk-estimator.fitted {\n",
       "  /* fitted */\n",
       "  background-color: var(--sklearn-color-fitted-level-0);\n",
       "}\n",
       "\n",
       "/* on hover */\n",
       "#sk-container-id-1 div.sk-estimator:hover {\n",
       "  /* unfitted */\n",
       "  background-color: var(--sklearn-color-unfitted-level-2);\n",
       "}\n",
       "\n",
       "#sk-container-id-1 div.sk-estimator.fitted:hover {\n",
       "  /* fitted */\n",
       "  background-color: var(--sklearn-color-fitted-level-2);\n",
       "}\n",
       "\n",
       "/* Specification for estimator info (e.g. \"i\" and \"?\") */\n",
       "\n",
       "/* Common style for \"i\" and \"?\" */\n",
       "\n",
       ".sk-estimator-doc-link,\n",
       "a:link.sk-estimator-doc-link,\n",
       "a:visited.sk-estimator-doc-link {\n",
       "  float: right;\n",
       "  font-size: smaller;\n",
       "  line-height: 1em;\n",
       "  font-family: monospace;\n",
       "  background-color: var(--sklearn-color-background);\n",
       "  border-radius: 1em;\n",
       "  height: 1em;\n",
       "  width: 1em;\n",
       "  text-decoration: none !important;\n",
       "  margin-left: 1ex;\n",
       "  /* unfitted */\n",
       "  border: var(--sklearn-color-unfitted-level-1) 1pt solid;\n",
       "  color: var(--sklearn-color-unfitted-level-1);\n",
       "}\n",
       "\n",
       ".sk-estimator-doc-link.fitted,\n",
       "a:link.sk-estimator-doc-link.fitted,\n",
       "a:visited.sk-estimator-doc-link.fitted {\n",
       "  /* fitted */\n",
       "  border: var(--sklearn-color-fitted-level-1) 1pt solid;\n",
       "  color: var(--sklearn-color-fitted-level-1);\n",
       "}\n",
       "\n",
       "/* On hover */\n",
       "div.sk-estimator:hover .sk-estimator-doc-link:hover,\n",
       ".sk-estimator-doc-link:hover,\n",
       "div.sk-label-container:hover .sk-estimator-doc-link:hover,\n",
       ".sk-estimator-doc-link:hover {\n",
       "  /* unfitted */\n",
       "  background-color: var(--sklearn-color-unfitted-level-3);\n",
       "  color: var(--sklearn-color-background);\n",
       "  text-decoration: none;\n",
       "}\n",
       "\n",
       "div.sk-estimator.fitted:hover .sk-estimator-doc-link.fitted:hover,\n",
       ".sk-estimator-doc-link.fitted:hover,\n",
       "div.sk-label-container:hover .sk-estimator-doc-link.fitted:hover,\n",
       ".sk-estimator-doc-link.fitted:hover {\n",
       "  /* fitted */\n",
       "  background-color: var(--sklearn-color-fitted-level-3);\n",
       "  color: var(--sklearn-color-background);\n",
       "  text-decoration: none;\n",
       "}\n",
       "\n",
       "/* Span, style for the box shown on hovering the info icon */\n",
       ".sk-estimator-doc-link span {\n",
       "  display: none;\n",
       "  z-index: 9999;\n",
       "  position: relative;\n",
       "  font-weight: normal;\n",
       "  right: .2ex;\n",
       "  padding: .5ex;\n",
       "  margin: .5ex;\n",
       "  width: min-content;\n",
       "  min-width: 20ex;\n",
       "  max-width: 50ex;\n",
       "  color: var(--sklearn-color-text);\n",
       "  box-shadow: 2pt 2pt 4pt #999;\n",
       "  /* unfitted */\n",
       "  background: var(--sklearn-color-unfitted-level-0);\n",
       "  border: .5pt solid var(--sklearn-color-unfitted-level-3);\n",
       "}\n",
       "\n",
       ".sk-estimator-doc-link.fitted span {\n",
       "  /* fitted */\n",
       "  background: var(--sklearn-color-fitted-level-0);\n",
       "  border: var(--sklearn-color-fitted-level-3);\n",
       "}\n",
       "\n",
       ".sk-estimator-doc-link:hover span {\n",
       "  display: block;\n",
       "}\n",
       "\n",
       "/* \"?\"-specific style due to the `<a>` HTML tag */\n",
       "\n",
       "#sk-container-id-1 a.estimator_doc_link {\n",
       "  float: right;\n",
       "  font-size: 1rem;\n",
       "  line-height: 1em;\n",
       "  font-family: monospace;\n",
       "  background-color: var(--sklearn-color-background);\n",
       "  border-radius: 1rem;\n",
       "  height: 1rem;\n",
       "  width: 1rem;\n",
       "  text-decoration: none;\n",
       "  /* unfitted */\n",
       "  color: var(--sklearn-color-unfitted-level-1);\n",
       "  border: var(--sklearn-color-unfitted-level-1) 1pt solid;\n",
       "}\n",
       "\n",
       "#sk-container-id-1 a.estimator_doc_link.fitted {\n",
       "  /* fitted */\n",
       "  border: var(--sklearn-color-fitted-level-1) 1pt solid;\n",
       "  color: var(--sklearn-color-fitted-level-1);\n",
       "}\n",
       "\n",
       "/* On hover */\n",
       "#sk-container-id-1 a.estimator_doc_link:hover {\n",
       "  /* unfitted */\n",
       "  background-color: var(--sklearn-color-unfitted-level-3);\n",
       "  color: var(--sklearn-color-background);\n",
       "  text-decoration: none;\n",
       "}\n",
       "\n",
       "#sk-container-id-1 a.estimator_doc_link.fitted:hover {\n",
       "  /* fitted */\n",
       "  background-color: var(--sklearn-color-fitted-level-3);\n",
       "}\n",
       "</style><div id=\"sk-container-id-1\" class=\"sk-top-container\"><div class=\"sk-text-repr-fallback\"><pre>RandomForestRegressor()</pre><b>In a Jupyter environment, please rerun this cell to show the HTML representation or trust the notebook. <br />On GitHub, the HTML representation is unable to render, please try loading this page with nbviewer.org.</b></div><div class=\"sk-container\" hidden><div class=\"sk-item\"><div class=\"sk-estimator fitted sk-toggleable\"><input class=\"sk-toggleable__control sk-hidden--visually\" id=\"sk-estimator-id-1\" type=\"checkbox\" checked><label for=\"sk-estimator-id-1\" class=\"sk-toggleable__label fitted sk-toggleable__label-arrow fitted\">&nbsp;&nbsp;RandomForestRegressor<a class=\"sk-estimator-doc-link fitted\" rel=\"noreferrer\" target=\"_blank\" href=\"https://scikit-learn.org/1.4/modules/generated/sklearn.ensemble.RandomForestRegressor.html\">?<span>Documentation for RandomForestRegressor</span></a><span class=\"sk-estimator-doc-link fitted\">i<span>Fitted</span></span></label><div class=\"sk-toggleable__content fitted\"><pre>RandomForestRegressor()</pre></div> </div></div></div></div>"
      ],
      "text/plain": [
       "RandomForestRegressor()"
      ]
     },
     "execution_count": 33,
     "metadata": {},
     "output_type": "execute_result"
    }
   ],
   "source": [
    "from sklearn.linear_model import LinearRegression\n",
    "from sklearn.tree import DecisionTreeRegressor\n",
    "from sklearn.ensemble import RandomForestRegressor\n",
    "# model = LinearRegression()\n",
    "# model = DecisionTreeRegressor()\n",
    "model = RandomForestRegressor()\n",
    "model.fit(signal_num_tr, signal_labels)"
   ]
  },
  {
   "cell_type": "code",
   "execution_count": 34,
   "id": "afc6619b-482a-45ef-a8d3-7596539d66a9",
   "metadata": {},
   "outputs": [],
   "source": [
    "some_data = signal.iloc[:10]"
   ]
  },
  {
   "cell_type": "code",
   "execution_count": 35,
   "id": "c59465b9-e1b1-423e-bca5-712f89a154cc",
   "metadata": {},
   "outputs": [],
   "source": [
    "some_labels = signal_labels.iloc[:10]"
   ]
  },
  {
   "cell_type": "code",
   "execution_count": 36,
   "id": "a0d7bc54-1aab-468b-a866-1a3069047cc5",
   "metadata": {},
   "outputs": [],
   "source": [
    "prepared_data = my_pipeline.transform(some_data)"
   ]
  },
  {
   "cell_type": "code",
   "execution_count": 37,
   "id": "50c62343-fef4-4df6-b652-031ed2134710",
   "metadata": {},
   "outputs": [
    {
     "data": {
      "text/plain": [
       "array([[12.91385188, 29.18078194],\n",
       "       [12.91385188, 29.01985257],\n",
       "       [12.82606108, 28.9483284 ],\n",
       "       [12.69437488, 29.14501986],\n",
       "       [12.38710708, 29.00197153],\n",
       "       [12.07983928, 28.68011279],\n",
       "       [ 8.83157969, 28.93044736],\n",
       "       [ 8.56820729, 28.9483284 ],\n",
       "       [ 8.48041649, 29.19866298],\n",
       "       [ 8.52431189, 29.1629009 ]])"
      ]
     },
     "execution_count": 37,
     "metadata": {},
     "output_type": "execute_result"
    }
   ],
   "source": [
    "model.predict(prepared_data)"
   ]
  },
  {
   "cell_type": "code",
   "execution_count": 38,
   "id": "cf7f6f18-bf21-4828-908c-52db03844f3b",
   "metadata": {},
   "outputs": [
    {
     "data": {
      "text/plain": [
       "[[12.91385188, 29.21654402],\n",
       " [12.91385188, 29.21654402],\n",
       " [12.91385188, 29.21654402],\n",
       " [12.91385188, 29.21654402],\n",
       " [12.91385188, 29.21654402],\n",
       " [12.91385188, 29.21654402],\n",
       " [8.52431189, 29.21654402],\n",
       " [8.52431189, 29.21654402],\n",
       " [8.52431189, 29.21654402],\n",
       " [8.52431189, 29.21654402]]"
      ]
     },
     "execution_count": 38,
     "metadata": {},
     "output_type": "execute_result"
    }
   ],
   "source": [
    "some_labels.values.tolist()"
   ]
  },
  {
   "cell_type": "markdown",
   "id": "57f52ca3-8ae7-4b7a-b883-93153417da3e",
   "metadata": {},
   "source": [
    "## Evaluating the Model"
   ]
  },
  {
   "cell_type": "code",
   "execution_count": 39,
   "id": "9f5fdd0f-1625-451c-971a-e732a5fa6397",
   "metadata": {},
   "outputs": [],
   "source": [
    "from sklearn.metrics import mean_squared_error\n",
    "import numpy as np\n",
    "signal_predictions = model.predict(signal_num_tr)\n",
    "mse = mean_squared_error(signal_labels, signal_predictions)\n",
    "rmse = np.sqrt(mse)"
   ]
  },
  {
   "cell_type": "code",
   "execution_count": 40,
   "id": "02efe577-fa57-44a7-8dbd-75e0b4aeaed8",
   "metadata": {},
   "outputs": [
    {
     "data": {
      "text/plain": [
       "0.47158891211175463"
      ]
     },
     "execution_count": 40,
     "metadata": {},
     "output_type": "execute_result"
    }
   ],
   "source": [
    "rmse"
   ]
  },
  {
   "cell_type": "code",
   "execution_count": 41,
   "id": "c8aa5b97-25d3-46e5-861c-094ebcd1bd0a",
   "metadata": {},
   "outputs": [
    {
     "data": {
      "text/plain": [
       "0.22239610202674823"
      ]
     },
     "execution_count": 41,
     "metadata": {},
     "output_type": "execute_result"
    }
   ],
   "source": [
    "mse"
   ]
  },
  {
   "cell_type": "markdown",
   "id": "d1d01d27-74e5-4e80-8c84-f8763efee1fc",
   "metadata": {},
   "source": [
    "## Function to Calculate Average Localisation Error"
   ]
  },
  {
   "cell_type": "code",
   "execution_count": 42,
   "id": "2720f2b5-0e4f-472c-9f84-60d5dc402c77",
   "metadata": {},
   "outputs": [],
   "source": [
    "def euclidean_distance(coord1, coord2):\n",
    "    return np.linalg.norm(coord1 - coord2)\n",
    "\n",
    "def average_localization_error(predicted_coords, ground_truth_coords):\n",
    "    errors = []\n",
    "    for pred_coord, gt_coord in zip(predicted_coords, ground_truth_coords):\n",
    "        error = euclidean_distance(pred_coord, gt_coord)\n",
    "        errors.append(error)\n",
    "    return np.mean(errors)"
   ]
  },
  {
   "cell_type": "markdown",
   "id": "06c192f2-cabe-43c7-b5dd-287b3b58f69d",
   "metadata": {},
   "source": [
    "## Saving the Model"
   ]
  },
  {
   "cell_type": "code",
   "execution_count": 43,
   "id": "e25b1093-6b50-4c70-b8f3-0784f5dad212",
   "metadata": {},
   "outputs": [
    {
     "data": {
      "text/plain": [
       "['RSS.joblib']"
      ]
     },
     "execution_count": 43,
     "metadata": {},
     "output_type": "execute_result"
    }
   ],
   "source": [
    "from joblib import dump, load\n",
    "dump(model, \"RSS.joblib\")"
   ]
  },
  {
   "cell_type": "code",
   "execution_count": null,
   "id": "75ee2574-4695-49bb-898a-97f3ddb80735",
   "metadata": {},
   "outputs": [],
   "source": []
  },
  {
   "cell_type": "markdown",
   "id": "dbd91b61-a770-4230-968f-31f88593328c",
   "metadata": {},
   "source": [
    "## Testing the Model"
   ]
  },
  {
   "cell_type": "code",
   "execution_count": 44,
   "id": "c27b2a78-71cd-4642-9df6-66990f365594",
   "metadata": {},
   "outputs": [],
   "source": [
    "import pandas as pd\n",
    "strat_test_set = pd.read_excel(\"test.twentyfive.xlsx\")"
   ]
  },
  {
   "cell_type": "code",
   "execution_count": 45,
   "id": "56b6431f-3c26-4e27-a5f5-e0b34646ccc3",
   "metadata": {},
   "outputs": [],
   "source": [
    "# strat_test_set = strat_test_set.drop(\"Label\", axis = 1)"
   ]
  },
  {
   "cell_type": "code",
   "execution_count": 46,
   "id": "b5d64e81-0cff-4871-8e13-32b5e60b9841",
   "metadata": {},
   "outputs": [
    {
     "data": {
      "text/plain": [
       "(7392, 625)"
      ]
     },
     "execution_count": 46,
     "metadata": {},
     "output_type": "execute_result"
    }
   ],
   "source": [
    "strat_test_set.shape"
   ]
  },
  {
   "cell_type": "code",
   "execution_count": 47,
   "id": "c57c8780-2e94-4008-bc85-affe2b8f59d9",
   "metadata": {},
   "outputs": [
    {
     "name": "stdout",
     "output_type": "stream",
     "text": [
      "Average Localization Error: 4.37017414201997\n",
      "RMSE:  0.47158891211175463\n"
     ]
    }
   ],
   "source": [
    "x_test = strat_test_set.drop(['x', 'y'], axis = 1) #dropping a columns 'x' and 'y' from testing data frame\n",
    "y_test = strat_test_set[['x', 'y']].copy() #selecting only columns 'x' and 'y' from testing data frame\n",
    "x_test_prepared = my_pipeline.transform(x_test)\n",
    "final_predictions = model.predict(x_test_prepared)\n",
    "final_mse = mean_squared_error(y_test, final_predictions)\n",
    "final_rmse = np.sqrt(mse)\n",
    "predicted_coords = final_predictions\n",
    "ground_truth_coords = y_test.values.tolist()\n",
    "avg_error = average_localization_error(predicted_coords, ground_truth_coords)\n",
    "print(\"Average Localization Error:\", avg_error)\n",
    "print(\"RMSE: \", final_rmse)\n",
    "# print(final_predictions, y_test.values.tolist())"
   ]
  },
  {
   "cell_type": "markdown",
   "id": "f75bbb66-9c0a-407a-a1d7-b3e413629b83",
   "metadata": {},
   "source": [
    "## Preparing the data to fit into CNN Model"
   ]
  },
  {
   "cell_type": "code",
   "execution_count": 48,
   "id": "c0f9561f-fef5-47a6-9073-c77a1fa1b88e",
   "metadata": {},
   "outputs": [
    {
     "data": {
      "text/html": [
       "<div>\n",
       "<style scoped>\n",
       "    .dataframe tbody tr th:only-of-type {\n",
       "        vertical-align: middle;\n",
       "    }\n",
       "\n",
       "    .dataframe tbody tr th {\n",
       "        vertical-align: top;\n",
       "    }\n",
       "\n",
       "    .dataframe thead th {\n",
       "        text-align: right;\n",
       "    }\n",
       "</style>\n",
       "<table border=\"1\" class=\"dataframe\">\n",
       "  <thead>\n",
       "    <tr style=\"text-align: right;\">\n",
       "      <th></th>\n",
       "      <th>WAP001</th>\n",
       "      <th>WAP002</th>\n",
       "      <th>WAP003</th>\n",
       "      <th>WAP004</th>\n",
       "      <th>WAP005</th>\n",
       "      <th>WAP006</th>\n",
       "      <th>WAP007</th>\n",
       "      <th>WAP008</th>\n",
       "      <th>WAP009</th>\n",
       "      <th>WAP010</th>\n",
       "      <th>...</th>\n",
       "      <th>WAP614</th>\n",
       "      <th>WAP615</th>\n",
       "      <th>WAP616</th>\n",
       "      <th>WAP617</th>\n",
       "      <th>WAP618</th>\n",
       "      <th>WAP619</th>\n",
       "      <th>WAP620</th>\n",
       "      <th>id</th>\n",
       "      <th>timestamp</th>\n",
       "      <th>Floor Number</th>\n",
       "    </tr>\n",
       "  </thead>\n",
       "  <tbody>\n",
       "    <tr>\n",
       "      <th>count</th>\n",
       "      <td>8640.000000</td>\n",
       "      <td>8640.000000</td>\n",
       "      <td>8640.000000</td>\n",
       "      <td>8640.000000</td>\n",
       "      <td>8640.000000</td>\n",
       "      <td>8640.000000</td>\n",
       "      <td>8640.000000</td>\n",
       "      <td>8640.000000</td>\n",
       "      <td>8640.000000</td>\n",
       "      <td>8640.000000</td>\n",
       "      <td>...</td>\n",
       "      <td>8640.0</td>\n",
       "      <td>8640.0</td>\n",
       "      <td>8640.0</td>\n",
       "      <td>8640.0</td>\n",
       "      <td>8640.0</td>\n",
       "      <td>8640.0</td>\n",
       "      <td>8640.0</td>\n",
       "      <td>8.640000e+03</td>\n",
       "      <td>8.640000e+03</td>\n",
       "      <td>8640.000000</td>\n",
       "    </tr>\n",
       "    <tr>\n",
       "      <th>mean</th>\n",
       "      <td>-7.038310</td>\n",
       "      <td>-3.175926</td>\n",
       "      <td>2.209722</td>\n",
       "      <td>10.110880</td>\n",
       "      <td>59.010764</td>\n",
       "      <td>-7.260532</td>\n",
       "      <td>4.066088</td>\n",
       "      <td>8.981134</td>\n",
       "      <td>10.331944</td>\n",
       "      <td>58.375926</td>\n",
       "      <td>...</td>\n",
       "      <td>100.0</td>\n",
       "      <td>100.0</td>\n",
       "      <td>100.0</td>\n",
       "      <td>100.0</td>\n",
       "      <td>100.0</td>\n",
       "      <td>100.0</td>\n",
       "      <td>100.0</td>\n",
       "      <td>1.081049e+08</td>\n",
       "      <td>2.016062e+16</td>\n",
       "      <td>4.000000</td>\n",
       "    </tr>\n",
       "    <tr>\n",
       "      <th>std</th>\n",
       "      <td>89.807832</td>\n",
       "      <td>88.172132</td>\n",
       "      <td>88.163900</td>\n",
       "      <td>91.235399</td>\n",
       "      <td>77.150028</td>\n",
       "      <td>89.780622</td>\n",
       "      <td>88.206010</td>\n",
       "      <td>91.256607</td>\n",
       "      <td>90.218637</td>\n",
       "      <td>77.588284</td>\n",
       "      <td>...</td>\n",
       "      <td>0.0</td>\n",
       "      <td>0.0</td>\n",
       "      <td>0.0</td>\n",
       "      <td>0.0</td>\n",
       "      <td>0.0</td>\n",
       "      <td>0.0</td>\n",
       "      <td>0.0</td>\n",
       "      <td>4.320745e+06</td>\n",
       "      <td>6.685720e+09</td>\n",
       "      <td>1.000058</td>\n",
       "    </tr>\n",
       "    <tr>\n",
       "      <th>min</th>\n",
       "      <td>-97.000000</td>\n",
       "      <td>-97.000000</td>\n",
       "      <td>-95.000000</td>\n",
       "      <td>-95.000000</td>\n",
       "      <td>-97.000000</td>\n",
       "      <td>-98.000000</td>\n",
       "      <td>-95.000000</td>\n",
       "      <td>-95.000000</td>\n",
       "      <td>-98.000000</td>\n",
       "      <td>-96.000000</td>\n",
       "      <td>...</td>\n",
       "      <td>100.0</td>\n",
       "      <td>100.0</td>\n",
       "      <td>100.0</td>\n",
       "      <td>100.0</td>\n",
       "      <td>100.0</td>\n",
       "      <td>100.0</td>\n",
       "      <td>100.0</td>\n",
       "      <td>1.011001e+08</td>\n",
       "      <td>2.016060e+16</td>\n",
       "      <td>3.000000</td>\n",
       "    </tr>\n",
       "    <tr>\n",
       "      <th>25%</th>\n",
       "      <td>-85.000000</td>\n",
       "      <td>-82.000000</td>\n",
       "      <td>-80.000000</td>\n",
       "      <td>-83.000000</td>\n",
       "      <td>100.000000</td>\n",
       "      <td>-85.000000</td>\n",
       "      <td>-79.000000</td>\n",
       "      <td>-83.000000</td>\n",
       "      <td>-82.000000</td>\n",
       "      <td>100.000000</td>\n",
       "      <td>...</td>\n",
       "      <td>100.0</td>\n",
       "      <td>100.0</td>\n",
       "      <td>100.0</td>\n",
       "      <td>100.0</td>\n",
       "      <td>100.0</td>\n",
       "      <td>100.0</td>\n",
       "      <td>100.0</td>\n",
       "      <td>1.041073e+08</td>\n",
       "      <td>2.016061e+16</td>\n",
       "      <td>3.000000</td>\n",
       "    </tr>\n",
       "    <tr>\n",
       "      <th>50%</th>\n",
       "      <td>-75.000000</td>\n",
       "      <td>-64.000000</td>\n",
       "      <td>-62.000000</td>\n",
       "      <td>100.000000</td>\n",
       "      <td>100.000000</td>\n",
       "      <td>-75.000000</td>\n",
       "      <td>-61.000000</td>\n",
       "      <td>100.000000</td>\n",
       "      <td>100.000000</td>\n",
       "      <td>100.000000</td>\n",
       "      <td>...</td>\n",
       "      <td>100.0</td>\n",
       "      <td>100.0</td>\n",
       "      <td>100.0</td>\n",
       "      <td>100.0</td>\n",
       "      <td>100.0</td>\n",
       "      <td>100.0</td>\n",
       "      <td>100.0</td>\n",
       "      <td>1.081049e+08</td>\n",
       "      <td>2.016062e+16</td>\n",
       "      <td>4.000000</td>\n",
       "    </tr>\n",
       "    <tr>\n",
       "      <th>75%</th>\n",
       "      <td>100.000000</td>\n",
       "      <td>100.000000</td>\n",
       "      <td>100.000000</td>\n",
       "      <td>100.000000</td>\n",
       "      <td>100.000000</td>\n",
       "      <td>100.000000</td>\n",
       "      <td>100.000000</td>\n",
       "      <td>100.000000</td>\n",
       "      <td>100.000000</td>\n",
       "      <td>100.000000</td>\n",
       "      <td>...</td>\n",
       "      <td>100.0</td>\n",
       "      <td>100.0</td>\n",
       "      <td>100.0</td>\n",
       "      <td>100.0</td>\n",
       "      <td>100.0</td>\n",
       "      <td>100.0</td>\n",
       "      <td>100.0</td>\n",
       "      <td>1.121024e+08</td>\n",
       "      <td>2.016062e+16</td>\n",
       "      <td>5.000000</td>\n",
       "    </tr>\n",
       "    <tr>\n",
       "      <th>max</th>\n",
       "      <td>100.000000</td>\n",
       "      <td>100.000000</td>\n",
       "      <td>100.000000</td>\n",
       "      <td>100.000000</td>\n",
       "      <td>100.000000</td>\n",
       "      <td>100.000000</td>\n",
       "      <td>100.000000</td>\n",
       "      <td>100.000000</td>\n",
       "      <td>100.000000</td>\n",
       "      <td>100.000000</td>\n",
       "      <td>...</td>\n",
       "      <td>100.0</td>\n",
       "      <td>100.0</td>\n",
       "      <td>100.0</td>\n",
       "      <td>100.0</td>\n",
       "      <td>100.0</td>\n",
       "      <td>100.0</td>\n",
       "      <td>100.0</td>\n",
       "      <td>1.151096e+08</td>\n",
       "      <td>2.016062e+16</td>\n",
       "      <td>5.000000</td>\n",
       "    </tr>\n",
       "  </tbody>\n",
       "</table>\n",
       "<p>8 rows × 623 columns</p>\n",
       "</div>"
      ],
      "text/plain": [
       "            WAP001       WAP002       WAP003       WAP004       WAP005  \\\n",
       "count  8640.000000  8640.000000  8640.000000  8640.000000  8640.000000   \n",
       "mean     -7.038310    -3.175926     2.209722    10.110880    59.010764   \n",
       "std      89.807832    88.172132    88.163900    91.235399    77.150028   \n",
       "min     -97.000000   -97.000000   -95.000000   -95.000000   -97.000000   \n",
       "25%     -85.000000   -82.000000   -80.000000   -83.000000   100.000000   \n",
       "50%     -75.000000   -64.000000   -62.000000   100.000000   100.000000   \n",
       "75%     100.000000   100.000000   100.000000   100.000000   100.000000   \n",
       "max     100.000000   100.000000   100.000000   100.000000   100.000000   \n",
       "\n",
       "            WAP006       WAP007       WAP008       WAP009       WAP010  ...  \\\n",
       "count  8640.000000  8640.000000  8640.000000  8640.000000  8640.000000  ...   \n",
       "mean     -7.260532     4.066088     8.981134    10.331944    58.375926  ...   \n",
       "std      89.780622    88.206010    91.256607    90.218637    77.588284  ...   \n",
       "min     -98.000000   -95.000000   -95.000000   -98.000000   -96.000000  ...   \n",
       "25%     -85.000000   -79.000000   -83.000000   -82.000000   100.000000  ...   \n",
       "50%     -75.000000   -61.000000   100.000000   100.000000   100.000000  ...   \n",
       "75%     100.000000   100.000000   100.000000   100.000000   100.000000  ...   \n",
       "max     100.000000   100.000000   100.000000   100.000000   100.000000  ...   \n",
       "\n",
       "       WAP614  WAP615  WAP616  WAP617  WAP618  WAP619  WAP620            id  \\\n",
       "count  8640.0  8640.0  8640.0  8640.0  8640.0  8640.0  8640.0  8.640000e+03   \n",
       "mean    100.0   100.0   100.0   100.0   100.0   100.0   100.0  1.081049e+08   \n",
       "std       0.0     0.0     0.0     0.0     0.0     0.0     0.0  4.320745e+06   \n",
       "min     100.0   100.0   100.0   100.0   100.0   100.0   100.0  1.011001e+08   \n",
       "25%     100.0   100.0   100.0   100.0   100.0   100.0   100.0  1.041073e+08   \n",
       "50%     100.0   100.0   100.0   100.0   100.0   100.0   100.0  1.081049e+08   \n",
       "75%     100.0   100.0   100.0   100.0   100.0   100.0   100.0  1.121024e+08   \n",
       "max     100.0   100.0   100.0   100.0   100.0   100.0   100.0  1.151096e+08   \n",
       "\n",
       "          timestamp  Floor Number  \n",
       "count  8.640000e+03   8640.000000  \n",
       "mean   2.016062e+16      4.000000  \n",
       "std    6.685720e+09      1.000058  \n",
       "min    2.016060e+16      3.000000  \n",
       "25%    2.016061e+16      3.000000  \n",
       "50%    2.016062e+16      4.000000  \n",
       "75%    2.016062e+16      5.000000  \n",
       "max    2.016062e+16      5.000000  \n",
       "\n",
       "[8 rows x 623 columns]"
      ]
     },
     "execution_count": 48,
     "metadata": {},
     "output_type": "execute_result"
    }
   ],
   "source": [
    "signal.describe()"
   ]
  },
  {
   "cell_type": "code",
   "execution_count": 49,
   "id": "78d4e85a-4cfb-4dc0-8b63-88450d5ad6e5",
   "metadata": {},
   "outputs": [
    {
     "data": {
      "text/html": [
       "<div>\n",
       "<style scoped>\n",
       "    .dataframe tbody tr th:only-of-type {\n",
       "        vertical-align: middle;\n",
       "    }\n",
       "\n",
       "    .dataframe tbody tr th {\n",
       "        vertical-align: top;\n",
       "    }\n",
       "\n",
       "    .dataframe thead th {\n",
       "        text-align: right;\n",
       "    }\n",
       "</style>\n",
       "<table border=\"1\" class=\"dataframe\">\n",
       "  <thead>\n",
       "    <tr style=\"text-align: right;\">\n",
       "      <th></th>\n",
       "      <th>x</th>\n",
       "      <th>y</th>\n",
       "    </tr>\n",
       "  </thead>\n",
       "  <tbody>\n",
       "    <tr>\n",
       "      <th>0</th>\n",
       "      <td>12.913852</td>\n",
       "      <td>29.216544</td>\n",
       "    </tr>\n",
       "    <tr>\n",
       "      <th>1</th>\n",
       "      <td>12.913852</td>\n",
       "      <td>29.216544</td>\n",
       "    </tr>\n",
       "    <tr>\n",
       "      <th>2</th>\n",
       "      <td>12.913852</td>\n",
       "      <td>29.216544</td>\n",
       "    </tr>\n",
       "    <tr>\n",
       "      <th>3</th>\n",
       "      <td>12.913852</td>\n",
       "      <td>29.216544</td>\n",
       "    </tr>\n",
       "    <tr>\n",
       "      <th>4</th>\n",
       "      <td>12.913852</td>\n",
       "      <td>29.216544</td>\n",
       "    </tr>\n",
       "    <tr>\n",
       "      <th>...</th>\n",
       "      <td>...</td>\n",
       "      <td>...</td>\n",
       "    </tr>\n",
       "    <tr>\n",
       "      <th>8635</th>\n",
       "      <td>12.913852</td>\n",
       "      <td>29.216544</td>\n",
       "    </tr>\n",
       "    <tr>\n",
       "      <th>8636</th>\n",
       "      <td>12.913852</td>\n",
       "      <td>29.216544</td>\n",
       "    </tr>\n",
       "    <tr>\n",
       "      <th>8637</th>\n",
       "      <td>12.913852</td>\n",
       "      <td>29.216544</td>\n",
       "    </tr>\n",
       "    <tr>\n",
       "      <th>8638</th>\n",
       "      <td>12.913852</td>\n",
       "      <td>29.216544</td>\n",
       "    </tr>\n",
       "    <tr>\n",
       "      <th>8639</th>\n",
       "      <td>12.913852</td>\n",
       "      <td>29.216544</td>\n",
       "    </tr>\n",
       "  </tbody>\n",
       "</table>\n",
       "<p>8640 rows × 2 columns</p>\n",
       "</div>"
      ],
      "text/plain": [
       "              x          y\n",
       "0     12.913852  29.216544\n",
       "1     12.913852  29.216544\n",
       "2     12.913852  29.216544\n",
       "3     12.913852  29.216544\n",
       "4     12.913852  29.216544\n",
       "...         ...        ...\n",
       "8635  12.913852  29.216544\n",
       "8636  12.913852  29.216544\n",
       "8637  12.913852  29.216544\n",
       "8638  12.913852  29.216544\n",
       "8639  12.913852  29.216544\n",
       "\n",
       "[8640 rows x 2 columns]"
      ]
     },
     "execution_count": 49,
     "metadata": {},
     "output_type": "execute_result"
    }
   ],
   "source": [
    "signal_labels"
   ]
  },
  {
   "cell_type": "code",
   "execution_count": 50,
   "id": "7ab857fc-5c43-41c3-a1a8-5dd31a04b74c",
   "metadata": {},
   "outputs": [],
   "source": [
    "signal_shape = signal.shape\n",
    "signal_labels_shape = signal_labels.shape"
   ]
  },
  {
   "cell_type": "code",
   "execution_count": 51,
   "id": "a51e4f09-0720-458a-b1ca-d44885ac63fb",
   "metadata": {},
   "outputs": [
    {
     "data": {
      "text/plain": [
       "(8640, 623)"
      ]
     },
     "execution_count": 51,
     "metadata": {},
     "output_type": "execute_result"
    }
   ],
   "source": [
    "signal_shape"
   ]
  },
  {
   "cell_type": "code",
   "execution_count": 52,
   "id": "61c873bd-9ec5-4cb7-8787-27f0e1b14e4c",
   "metadata": {},
   "outputs": [
    {
     "data": {
      "text/plain": [
       "(8640, 2)"
      ]
     },
     "execution_count": 52,
     "metadata": {},
     "output_type": "execute_result"
    }
   ],
   "source": [
    "signal_labels_shape"
   ]
  },
  {
   "cell_type": "markdown",
   "id": "07b6adeb-9fcc-46c6-ae11-2a03f8d9957c",
   "metadata": {},
   "source": [
    "## Reshaping the Data"
   ]
  },
  {
   "cell_type": "code",
   "execution_count": 53,
   "id": "f6cd3d41-e1e3-4772-8974-8a16d8c77c20",
   "metadata": {},
   "outputs": [],
   "source": [
    "import numpy as np\n",
    "signal_array = signal.values\n",
    "reshaped_signal = signal_array.reshape(signal_shape[0], signal_shape[1], 1)\n",
    "\n",
    "signal_labels_array = signal_labels.values\n",
    "reshaped_signal_labels = signal_labels_array.reshape(signal_labels_shape[0], signal_labels_shape[1], 1)"
   ]
  },
  {
   "cell_type": "markdown",
   "id": "0d8556fc-b2ec-4315-aa75-6b4ecadc10df",
   "metadata": {},
   "source": [
    "## Normalizing the data"
   ]
  },
  {
   "cell_type": "code",
   "execution_count": 54,
   "id": "579b0d98-d7ca-4de6-8731-97e512c10448",
   "metadata": {},
   "outputs": [],
   "source": [
    "from sklearn.preprocessing import MinMaxScaler\n",
    "flattened_signal = reshaped_signal.reshape(-1, 1)\n",
    "scaler = MinMaxScaler()\n",
    "normalized_flattened_signal = scaler.fit_transform(flattened_signal)\n",
    "normalized_signal = normalized_flattened_signal.reshape(reshaped_signal.shape)\n",
    "\n",
    "flattened_signal_labels = reshaped_signal_labels.reshape(-1, 1)\n",
    "normalized_flattened_signal_labels = scaler.fit_transform(flattened_signal_labels)\n",
    "normalized_signal_labels = normalized_flattened_signal_labels.reshape(reshaped_signal_labels.shape)"
   ]
  },
  {
   "cell_type": "code",
   "execution_count": 55,
   "id": "d3aebf10-c92b-4016-bc07-b4b265390e9e",
   "metadata": {},
   "outputs": [
    {
     "data": {
      "text/plain": [
       "(8640, 623, 1)"
      ]
     },
     "execution_count": 55,
     "metadata": {},
     "output_type": "execute_result"
    }
   ],
   "source": [
    "normalized_signal.shape"
   ]
  },
  {
   "cell_type": "code",
   "execution_count": 56,
   "id": "6b01a271-69d8-4202-8427-d5aad78594c0",
   "metadata": {},
   "outputs": [
    {
     "data": {
      "text/plain": [
       "(8640, 2, 1)"
      ]
     },
     "execution_count": 56,
     "metadata": {},
     "output_type": "execute_result"
    }
   ],
   "source": [
    "normalized_signal_labels.shape"
   ]
  },
  {
   "cell_type": "markdown",
   "id": "afc9ea45-cb1b-4714-9856-a017f64e44c1",
   "metadata": {},
   "source": [
    "## Creating CNN Model"
   ]
  },
  {
   "cell_type": "code",
   "execution_count": 57,
   "id": "0beaeffc-ae8d-4012-8bda-4d7104bb6e94",
   "metadata": {},
   "outputs": [
    {
     "name": "stderr",
     "output_type": "stream",
     "text": [
      "C:\\Users\\wmd04\\AppData\\Local\\Programs\\Python\\Python312\\Lib\\site-packages\\keras\\src\\layers\\convolutional\\base_conv.py:107: UserWarning: Do not pass an `input_shape`/`input_dim` argument to a layer. When using Sequential models, prefer using an `Input(shape)` object as the first layer in the model instead.\n",
      "  super().__init__(activity_regularizer=activity_regularizer, **kwargs)\n"
     ]
    },
    {
     "data": {
      "text/html": [
       "<pre style=\"white-space:pre;overflow-x:auto;line-height:normal;font-family:Menlo,'DejaVu Sans Mono',consolas,'Courier New',monospace\"><span style=\"font-weight: bold\">Model: \"sequential\"</span>\n",
       "</pre>\n"
      ],
      "text/plain": [
       "\u001b[1mModel: \"sequential\"\u001b[0m\n"
      ]
     },
     "metadata": {},
     "output_type": "display_data"
    },
    {
     "data": {
      "text/html": [
       "<pre style=\"white-space:pre;overflow-x:auto;line-height:normal;font-family:Menlo,'DejaVu Sans Mono',consolas,'Courier New',monospace\">┏━━━━━━━━━━━━━━━━━━━━━━━━━━━━━━━━━━━━━━┳━━━━━━━━━━━━━━━━━━━━━━━━━━━━━┳━━━━━━━━━━━━━━━━━┓\n",
       "┃<span style=\"font-weight: bold\"> Layer (type)                         </span>┃<span style=\"font-weight: bold\"> Output Shape                </span>┃<span style=\"font-weight: bold\">         Param # </span>┃\n",
       "┡━━━━━━━━━━━━━━━━━━━━━━━━━━━━━━━━━━━━━━╇━━━━━━━━━━━━━━━━━━━━━━━━━━━━━╇━━━━━━━━━━━━━━━━━┩\n",
       "│ conv1d (<span style=\"color: #0087ff; text-decoration-color: #0087ff\">Conv1D</span>)                      │ (<span style=\"color: #00d7ff; text-decoration-color: #00d7ff\">None</span>, <span style=\"color: #00af00; text-decoration-color: #00af00\">621</span>, <span style=\"color: #00af00; text-decoration-color: #00af00\">32</span>)             │             <span style=\"color: #00af00; text-decoration-color: #00af00\">128</span> │\n",
       "├──────────────────────────────────────┼─────────────────────────────┼─────────────────┤\n",
       "│ max_pooling1d (<span style=\"color: #0087ff; text-decoration-color: #0087ff\">MaxPooling1D</span>)         │ (<span style=\"color: #00d7ff; text-decoration-color: #00d7ff\">None</span>, <span style=\"color: #00af00; text-decoration-color: #00af00\">310</span>, <span style=\"color: #00af00; text-decoration-color: #00af00\">32</span>)             │               <span style=\"color: #00af00; text-decoration-color: #00af00\">0</span> │\n",
       "├──────────────────────────────────────┼─────────────────────────────┼─────────────────┤\n",
       "│ conv1d_1 (<span style=\"color: #0087ff; text-decoration-color: #0087ff\">Conv1D</span>)                    │ (<span style=\"color: #00d7ff; text-decoration-color: #00d7ff\">None</span>, <span style=\"color: #00af00; text-decoration-color: #00af00\">308</span>, <span style=\"color: #00af00; text-decoration-color: #00af00\">64</span>)             │           <span style=\"color: #00af00; text-decoration-color: #00af00\">6,208</span> │\n",
       "├──────────────────────────────────────┼─────────────────────────────┼─────────────────┤\n",
       "│ max_pooling1d_1 (<span style=\"color: #0087ff; text-decoration-color: #0087ff\">MaxPooling1D</span>)       │ (<span style=\"color: #00d7ff; text-decoration-color: #00d7ff\">None</span>, <span style=\"color: #00af00; text-decoration-color: #00af00\">154</span>, <span style=\"color: #00af00; text-decoration-color: #00af00\">64</span>)             │               <span style=\"color: #00af00; text-decoration-color: #00af00\">0</span> │\n",
       "├──────────────────────────────────────┼─────────────────────────────┼─────────────────┤\n",
       "│ flatten (<span style=\"color: #0087ff; text-decoration-color: #0087ff\">Flatten</span>)                    │ (<span style=\"color: #00d7ff; text-decoration-color: #00d7ff\">None</span>, <span style=\"color: #00af00; text-decoration-color: #00af00\">9856</span>)                │               <span style=\"color: #00af00; text-decoration-color: #00af00\">0</span> │\n",
       "├──────────────────────────────────────┼─────────────────────────────┼─────────────────┤\n",
       "│ dense (<span style=\"color: #0087ff; text-decoration-color: #0087ff\">Dense</span>)                        │ (<span style=\"color: #00d7ff; text-decoration-color: #00d7ff\">None</span>, <span style=\"color: #00af00; text-decoration-color: #00af00\">128</span>)                 │       <span style=\"color: #00af00; text-decoration-color: #00af00\">1,261,696</span> │\n",
       "├──────────────────────────────────────┼─────────────────────────────┼─────────────────┤\n",
       "│ dense_1 (<span style=\"color: #0087ff; text-decoration-color: #0087ff\">Dense</span>)                      │ (<span style=\"color: #00d7ff; text-decoration-color: #00d7ff\">None</span>, <span style=\"color: #00af00; text-decoration-color: #00af00\">2</span>)                   │             <span style=\"color: #00af00; text-decoration-color: #00af00\">258</span> │\n",
       "└──────────────────────────────────────┴─────────────────────────────┴─────────────────┘\n",
       "</pre>\n"
      ],
      "text/plain": [
       "┏━━━━━━━━━━━━━━━━━━━━━━━━━━━━━━━━━━━━━━┳━━━━━━━━━━━━━━━━━━━━━━━━━━━━━┳━━━━━━━━━━━━━━━━━┓\n",
       "┃\u001b[1m \u001b[0m\u001b[1mLayer (type)                        \u001b[0m\u001b[1m \u001b[0m┃\u001b[1m \u001b[0m\u001b[1mOutput Shape               \u001b[0m\u001b[1m \u001b[0m┃\u001b[1m \u001b[0m\u001b[1m        Param #\u001b[0m\u001b[1m \u001b[0m┃\n",
       "┡━━━━━━━━━━━━━━━━━━━━━━━━━━━━━━━━━━━━━━╇━━━━━━━━━━━━━━━━━━━━━━━━━━━━━╇━━━━━━━━━━━━━━━━━┩\n",
       "│ conv1d (\u001b[38;5;33mConv1D\u001b[0m)                      │ (\u001b[38;5;45mNone\u001b[0m, \u001b[38;5;34m621\u001b[0m, \u001b[38;5;34m32\u001b[0m)             │             \u001b[38;5;34m128\u001b[0m │\n",
       "├──────────────────────────────────────┼─────────────────────────────┼─────────────────┤\n",
       "│ max_pooling1d (\u001b[38;5;33mMaxPooling1D\u001b[0m)         │ (\u001b[38;5;45mNone\u001b[0m, \u001b[38;5;34m310\u001b[0m, \u001b[38;5;34m32\u001b[0m)             │               \u001b[38;5;34m0\u001b[0m │\n",
       "├──────────────────────────────────────┼─────────────────────────────┼─────────────────┤\n",
       "│ conv1d_1 (\u001b[38;5;33mConv1D\u001b[0m)                    │ (\u001b[38;5;45mNone\u001b[0m, \u001b[38;5;34m308\u001b[0m, \u001b[38;5;34m64\u001b[0m)             │           \u001b[38;5;34m6,208\u001b[0m │\n",
       "├──────────────────────────────────────┼─────────────────────────────┼─────────────────┤\n",
       "│ max_pooling1d_1 (\u001b[38;5;33mMaxPooling1D\u001b[0m)       │ (\u001b[38;5;45mNone\u001b[0m, \u001b[38;5;34m154\u001b[0m, \u001b[38;5;34m64\u001b[0m)             │               \u001b[38;5;34m0\u001b[0m │\n",
       "├──────────────────────────────────────┼─────────────────────────────┼─────────────────┤\n",
       "│ flatten (\u001b[38;5;33mFlatten\u001b[0m)                    │ (\u001b[38;5;45mNone\u001b[0m, \u001b[38;5;34m9856\u001b[0m)                │               \u001b[38;5;34m0\u001b[0m │\n",
       "├──────────────────────────────────────┼─────────────────────────────┼─────────────────┤\n",
       "│ dense (\u001b[38;5;33mDense\u001b[0m)                        │ (\u001b[38;5;45mNone\u001b[0m, \u001b[38;5;34m128\u001b[0m)                 │       \u001b[38;5;34m1,261,696\u001b[0m │\n",
       "├──────────────────────────────────────┼─────────────────────────────┼─────────────────┤\n",
       "│ dense_1 (\u001b[38;5;33mDense\u001b[0m)                      │ (\u001b[38;5;45mNone\u001b[0m, \u001b[38;5;34m2\u001b[0m)                   │             \u001b[38;5;34m258\u001b[0m │\n",
       "└──────────────────────────────────────┴─────────────────────────────┴─────────────────┘\n"
      ]
     },
     "metadata": {},
     "output_type": "display_data"
    },
    {
     "data": {
      "text/html": [
       "<pre style=\"white-space:pre;overflow-x:auto;line-height:normal;font-family:Menlo,'DejaVu Sans Mono',consolas,'Courier New',monospace\"><span style=\"font-weight: bold\"> Total params: </span><span style=\"color: #00af00; text-decoration-color: #00af00\">1,268,290</span> (4.84 MB)\n",
       "</pre>\n"
      ],
      "text/plain": [
       "\u001b[1m Total params: \u001b[0m\u001b[38;5;34m1,268,290\u001b[0m (4.84 MB)\n"
      ]
     },
     "metadata": {},
     "output_type": "display_data"
    },
    {
     "data": {
      "text/html": [
       "<pre style=\"white-space:pre;overflow-x:auto;line-height:normal;font-family:Menlo,'DejaVu Sans Mono',consolas,'Courier New',monospace\"><span style=\"font-weight: bold\"> Trainable params: </span><span style=\"color: #00af00; text-decoration-color: #00af00\">1,268,290</span> (4.84 MB)\n",
       "</pre>\n"
      ],
      "text/plain": [
       "\u001b[1m Trainable params: \u001b[0m\u001b[38;5;34m1,268,290\u001b[0m (4.84 MB)\n"
      ]
     },
     "metadata": {},
     "output_type": "display_data"
    },
    {
     "data": {
      "text/html": [
       "<pre style=\"white-space:pre;overflow-x:auto;line-height:normal;font-family:Menlo,'DejaVu Sans Mono',consolas,'Courier New',monospace\"><span style=\"font-weight: bold\"> Non-trainable params: </span><span style=\"color: #00af00; text-decoration-color: #00af00\">0</span> (0.00 B)\n",
       "</pre>\n"
      ],
      "text/plain": [
       "\u001b[1m Non-trainable params: \u001b[0m\u001b[38;5;34m0\u001b[0m (0.00 B)\n"
      ]
     },
     "metadata": {},
     "output_type": "display_data"
    },
    {
     "name": "stdout",
     "output_type": "stream",
     "text": [
      "Epoch 1/10\n",
      "\u001b[1m216/216\u001b[0m \u001b[32m━━━━━━━━━━━━━━━━━━━━\u001b[0m\u001b[37m\u001b[0m \u001b[1m10s\u001b[0m 33ms/step - loss: 0.0599 - mae: 0.1819 - val_loss: 0.0248 - val_mae: 0.1327\n",
      "Epoch 2/10\n",
      "\u001b[1m216/216\u001b[0m \u001b[32m━━━━━━━━━━━━━━━━━━━━\u001b[0m\u001b[37m\u001b[0m \u001b[1m7s\u001b[0m 32ms/step - loss: 0.0246 - mae: 0.1345 - val_loss: 0.0240 - val_mae: 0.1329\n",
      "Epoch 3/10\n",
      "\u001b[1m216/216\u001b[0m \u001b[32m━━━━━━━━━━━━━━━━━━━━\u001b[0m\u001b[37m\u001b[0m \u001b[1m6s\u001b[0m 29ms/step - loss: 0.0243 - mae: 0.1342 - val_loss: 0.0238 - val_mae: 0.1301\n",
      "Epoch 4/10\n",
      "\u001b[1m216/216\u001b[0m \u001b[32m━━━━━━━━━━━━━━━━━━━━\u001b[0m\u001b[37m\u001b[0m \u001b[1m6s\u001b[0m 29ms/step - loss: 0.0245 - mae: 0.1336 - val_loss: 0.0238 - val_mae: 0.1327\n",
      "Epoch 5/10\n",
      "\u001b[1m216/216\u001b[0m \u001b[32m━━━━━━━━━━━━━━━━━━━━\u001b[0m\u001b[37m\u001b[0m \u001b[1m6s\u001b[0m 29ms/step - loss: 0.0240 - mae: 0.1325 - val_loss: 0.0237 - val_mae: 0.1307\n",
      "Epoch 6/10\n",
      "\u001b[1m216/216\u001b[0m \u001b[32m━━━━━━━━━━━━━━━━━━━━\u001b[0m\u001b[37m\u001b[0m \u001b[1m7s\u001b[0m 30ms/step - loss: 0.0246 - mae: 0.1344 - val_loss: 0.0286 - val_mae: 0.1415\n",
      "Epoch 7/10\n",
      "\u001b[1m216/216\u001b[0m \u001b[32m━━━━━━━━━━━━━━━━━━━━\u001b[0m\u001b[37m\u001b[0m \u001b[1m6s\u001b[0m 28ms/step - loss: 0.0241 - mae: 0.1313 - val_loss: 0.0241 - val_mae: 0.1315\n",
      "Epoch 8/10\n",
      "\u001b[1m216/216\u001b[0m \u001b[32m━━━━━━━━━━━━━━━━━━━━\u001b[0m\u001b[37m\u001b[0m \u001b[1m6s\u001b[0m 28ms/step - loss: 0.0241 - mae: 0.1324 - val_loss: 0.0237 - val_mae: 0.1297\n",
      "Epoch 9/10\n",
      "\u001b[1m216/216\u001b[0m \u001b[32m━━━━━━━━━━━━━━━━━━━━\u001b[0m\u001b[37m\u001b[0m \u001b[1m6s\u001b[0m 28ms/step - loss: 0.0242 - mae: 0.1324 - val_loss: 0.0237 - val_mae: 0.1298\n",
      "Epoch 10/10\n",
      "\u001b[1m216/216\u001b[0m \u001b[32m━━━━━━━━━━━━━━━━━━━━\u001b[0m\u001b[37m\u001b[0m \u001b[1m6s\u001b[0m 29ms/step - loss: 0.0242 - mae: 0.1331 - val_loss: 0.0238 - val_mae: 0.1298\n"
     ]
    },
    {
     "data": {
      "text/plain": [
       "<keras.src.callbacks.history.History at 0x1dbe09b4aa0>"
      ]
     },
     "execution_count": 57,
     "metadata": {},
     "output_type": "execute_result"
    }
   ],
   "source": [
    "import tensorflow as tf\n",
    "from tensorflow.keras import layers, models\n",
    "\n",
    "#defining the cnn model\n",
    "def create_cnn_model(input_shape):\n",
    "    model = models.Sequential()\n",
    "    model.add(layers.Conv1D(32, kernel_size=3, activation = 'relu', input_shape=input_shape[1: ]))\n",
    "    model.add(layers.MaxPooling1D(pool_size=2))\n",
    "    model.add(layers.Conv1D(64, kernel_size=3, activation='relu'))\n",
    "    model.add(layers.MaxPooling1D(pool_size=2))\n",
    "    model.add(layers.Flatten())\n",
    "    model.add(layers.Dense(128, activation='relu'))\n",
    "    model.add(layers.Dense(2, activation='linear'))\n",
    "\n",
    "    return model\n",
    "\n",
    "input_shape = (8640, 623, 1)\n",
    "\n",
    "model = create_cnn_model(input_shape)\n",
    "\n",
    "model.compile(optimizer='adam', loss='mse', metrics=['mae'])\n",
    "\n",
    "model.summary()\n",
    "\n",
    "model.fit(normalized_signal, normalized_signal_labels, epochs=10, batch_size=32, validation_split=0.2)"
   ]
  },
  {
   "cell_type": "code",
   "execution_count": 58,
   "id": "30ea5491-c607-4494-b2ef-72d9d1d0bbf5",
   "metadata": {},
   "outputs": [],
   "source": [
    "some_data = normalized_signal[:10]"
   ]
  },
  {
   "cell_type": "code",
   "execution_count": 59,
   "id": "785cca4b-a89c-40cc-869b-abdffc63939a",
   "metadata": {},
   "outputs": [],
   "source": [
    "some_labels = normalized_signal_labels[:10]"
   ]
  },
  {
   "cell_type": "code",
   "execution_count": 60,
   "id": "b1b925a1-3a43-4f59-8d5c-f5819bd98765",
   "metadata": {},
   "outputs": [],
   "source": [
    "prepared_data = np.reshape(some_data, (some_data.shape[0], some_data.shape[1], 1))"
   ]
  },
  {
   "cell_type": "code",
   "execution_count": 61,
   "id": "1caa1489-c99d-410a-8d7b-9b7a140f284d",
   "metadata": {},
   "outputs": [
    {
     "name": "stdout",
     "output_type": "stream",
     "text": [
      "\u001b[1m1/1\u001b[0m \u001b[32m━━━━━━━━━━━━━━━━━━━━\u001b[0m\u001b[37m\u001b[0m \u001b[1m0s\u001b[0m 209ms/step\n"
     ]
    }
   ],
   "source": [
    "predictions = model.predict(prepared_data)"
   ]
  },
  {
   "cell_type": "code",
   "execution_count": 62,
   "id": "7f7e3c47-610d-42aa-a729-e1b4370dac3a",
   "metadata": {},
   "outputs": [
    {
     "data": {
      "text/plain": [
       "array([[0.17557274, 0.7729285 ],\n",
       "       [0.17557274, 0.7729285 ],\n",
       "       [0.17557274, 0.7729285 ],\n",
       "       [0.17557274, 0.7729285 ],\n",
       "       [0.17557274, 0.7729285 ],\n",
       "       [0.17557274, 0.7729285 ],\n",
       "       [0.17557274, 0.7729285 ],\n",
       "       [0.17557274, 0.7729285 ],\n",
       "       [0.17557274, 0.7729285 ],\n",
       "       [0.17557274, 0.7729285 ]], dtype=float32)"
      ]
     },
     "execution_count": 62,
     "metadata": {},
     "output_type": "execute_result"
    }
   ],
   "source": [
    "predictions"
   ]
  },
  {
   "cell_type": "code",
   "execution_count": 63,
   "id": "001080aa-27e2-49e0-8f61-311a876314f0",
   "metadata": {
    "scrolled": true
   },
   "outputs": [
    {
     "data": {
      "text/plain": [
       "[[[0.3500183295661009], [1.0]],\n",
       " [[0.3500183295661009], [1.0]],\n",
       " [[0.3500183295661009], [1.0]],\n",
       " [[0.3500183295661009], [1.0]],\n",
       " [[0.3500183295661009], [1.0]],\n",
       " [[0.3500183295661009], [1.0]],\n",
       " [[0.17500916478305042], [1.0]],\n",
       " [[0.17500916478305042], [1.0]],\n",
       " [[0.17500916478305042], [1.0]],\n",
       " [[0.17500916478305042], [1.0]]]"
      ]
     },
     "execution_count": 63,
     "metadata": {},
     "output_type": "execute_result"
    }
   ],
   "source": [
    "some_labels.tolist()"
   ]
  },
  {
   "cell_type": "markdown",
   "id": "e5cbd50e-2884-4e43-869a-eaa5f8bca7d7",
   "metadata": {},
   "source": [
    "## Evaluating the Model"
   ]
  },
  {
   "cell_type": "code",
   "execution_count": 64,
   "id": "65b5c3de-8a2c-49a5-bf9e-b31583978f70",
   "metadata": {},
   "outputs": [
    {
     "name": "stdout",
     "output_type": "stream",
     "text": [
      "\u001b[1m270/270\u001b[0m \u001b[32m━━━━━━━━━━━━━━━━━━━━\u001b[0m\u001b[37m\u001b[0m \u001b[1m2s\u001b[0m 8ms/step\n"
     ]
    }
   ],
   "source": [
    "from sklearn.metrics import mean_squared_error\n",
    "import numpy as np\n",
    "\n",
    "predictions = model.predict(normalized_signal)\n",
    "\n",
    "if normalized_signal_labels.ndim > 2:\n",
    "    normalized_signal_labels = normalized_signal_labels.squeeze()\n",
    "if predictions.ndim > 2:\n",
    "    predictions = predictions.squeeze()\n",
    "\n",
    "mse = mean_squared_error(normalized_signal_labels, predictions)\n",
    "rmse = np.sqrt(mse)"
   ]
  },
  {
   "cell_type": "code",
   "execution_count": 65,
   "id": "679f72b0-bd05-4f5f-9219-90e81e00e984",
   "metadata": {},
   "outputs": [
    {
     "data": {
      "text/plain": [
       "0.023810588969916474"
      ]
     },
     "execution_count": 65,
     "metadata": {},
     "output_type": "execute_result"
    }
   ],
   "source": [
    "mse"
   ]
  },
  {
   "cell_type": "code",
   "execution_count": 66,
   "id": "92c1e23e-1921-4ff7-bd96-7e63bab98196",
   "metadata": {},
   "outputs": [
    {
     "data": {
      "text/plain": [
       "0.15430680143764394"
      ]
     },
     "execution_count": 66,
     "metadata": {},
     "output_type": "execute_result"
    }
   ],
   "source": [
    "rmse"
   ]
  },
  {
   "cell_type": "markdown",
   "id": "9860e854-4583-44fa-b796-9f4eb70193ca",
   "metadata": {},
   "source": [
    "## Testing the Model"
   ]
  },
  {
   "cell_type": "code",
   "execution_count": 67,
   "id": "281e6c47-adec-4def-8944-abb4fd841757",
   "metadata": {
    "jp-MarkdownHeadingCollapsed": true
   },
   "outputs": [],
   "source": [
    "import pandas as pd\n",
    "strat_test_set = pd.read_excel(\"test.twentyfive.xlsx\")"
   ]
  },
  {
   "cell_type": "code",
   "execution_count": 68,
   "id": "780ce625-e842-4add-ae34-c4c129387449",
   "metadata": {},
   "outputs": [],
   "source": [
    "# strat_test_set = strat_test_set.drop(\"Label\", axis=1)"
   ]
  },
  {
   "cell_type": "code",
   "execution_count": 69,
   "id": "34a111dc-30cd-40e0-a1d2-6892b1ed2a8c",
   "metadata": {},
   "outputs": [
    {
     "data": {
      "text/plain": [
       "(7392, 625)"
      ]
     },
     "execution_count": 69,
     "metadata": {},
     "output_type": "execute_result"
    }
   ],
   "source": [
    "strat_test_set.shape"
   ]
  },
  {
   "cell_type": "code",
   "execution_count": 70,
   "id": "09bf4a9f-cd0d-4b93-99ab-d96be9f599a1",
   "metadata": {},
   "outputs": [],
   "source": [
    "x_test = strat_test_set.drop(['x', 'y'], axis = 1) #dropping columns 'x' and 'y' from testing data frame\n",
    "y_test = strat_test_set[['x', 'y']].copy() #selecting only columns 'x' and 'y' from testing data frame"
   ]
  },
  {
   "cell_type": "code",
   "execution_count": 71,
   "id": "af93b621-bd14-49f4-805f-9ef5d5aabd83",
   "metadata": {},
   "outputs": [],
   "source": [
    "x_test_shape = x_test.shape\n",
    "y_test_shape = y_test.shape"
   ]
  },
  {
   "cell_type": "code",
   "execution_count": 72,
   "id": "ee1f6d19-f65b-40ba-9e74-6bca01c42c38",
   "metadata": {},
   "outputs": [],
   "source": [
    "# x_test_shape"
   ]
  },
  {
   "cell_type": "code",
   "execution_count": 73,
   "id": "cf96f219-45fc-4ff1-97ca-d4ed2385e0e1",
   "metadata": {},
   "outputs": [],
   "source": [
    "# y_test_shape"
   ]
  },
  {
   "cell_type": "code",
   "execution_count": 74,
   "id": "6e3121e2-7a61-4631-8525-90164f0e20c3",
   "metadata": {},
   "outputs": [],
   "source": [
    "#Reshaping the test data\n",
    "x_test_array = x_test.values\n",
    "reshaped_x_test = x_test_array.reshape(x_test_shape[0], x_test_shape[1], 1)\n",
    "\n",
    "y_test_array = y_test.values\n",
    "reshaped_y_test = y_test_array.reshape(y_test_shape[0], y_test_shape[1], 1)"
   ]
  },
  {
   "cell_type": "code",
   "execution_count": 75,
   "id": "c392f715-40f5-4bc9-95e6-2439ae36404f",
   "metadata": {},
   "outputs": [],
   "source": [
    "#Normalizing the test data\n",
    "from sklearn.preprocessing import MinMaxScaler\n",
    "flattened_x_test = reshaped_x_test.reshape(-1, 1)\n",
    "scaler = MinMaxScaler()\n",
    "normalized_flattened_x_test = scaler.fit_transform(flattened_x_test)\n",
    "normalized_x_test = normalized_flattened_x_test.reshape(reshaped_x_test.shape)\n",
    "\n",
    "flattened_y_test = reshaped_y_test.reshape(-1, 1)\n",
    "normalized_flattened_y_test = scaler.fit_transform(flattened_y_test)\n",
    "normalized_y_test = normalized_flattened_y_test.reshape(reshaped_y_test.shape)"
   ]
  },
  {
   "cell_type": "code",
   "execution_count": 76,
   "id": "a7a357e4-6822-4b2f-a904-f9f2a8e31ade",
   "metadata": {},
   "outputs": [],
   "source": [
    "# normalized_x_test.shape"
   ]
  },
  {
   "cell_type": "code",
   "execution_count": 77,
   "id": "3a568b31-3bd0-4ccc-a654-80baabfe3d1f",
   "metadata": {},
   "outputs": [],
   "source": [
    "# normalized_y_test.shape"
   ]
  },
  {
   "cell_type": "code",
   "execution_count": 78,
   "id": "45ef63e1-6979-4ba0-9a70-0157cd618666",
   "metadata": {},
   "outputs": [
    {
     "name": "stdout",
     "output_type": "stream",
     "text": [
      "\u001b[1m231/231\u001b[0m \u001b[32m━━━━━━━━━━━━━━━━━━━━\u001b[0m\u001b[37m\u001b[0m \u001b[1m2s\u001b[0m 8ms/step\n"
     ]
    }
   ],
   "source": [
    "from sklearn.metrics import mean_squared_error\n",
    "import numpy as np\n",
    "\n",
    "predictions = model.predict(normalized_x_test)\n",
    "\n",
    "if normalized_y_test.ndim > 2:\n",
    "    normalized_y_test = normalized_y_test.squeeze()\n",
    "if predictions.ndim > 2:\n",
    "    predictions = predictions.squeeze()\n",
    "\n",
    "mse = mean_squared_error(normalized_y_test, predictions)\n",
    "rmse = np.sqrt(mse)"
   ]
  },
  {
   "cell_type": "code",
   "execution_count": 79,
   "id": "83111f0c-a9df-4637-85b5-08bb14b60d56",
   "metadata": {},
   "outputs": [],
   "source": [
    "# rmse"
   ]
  },
  {
   "cell_type": "code",
   "execution_count": 80,
   "id": "6a13d924-a786-4211-98b1-b35baaa28e34",
   "metadata": {},
   "outputs": [],
   "source": [
    "# mse"
   ]
  },
  {
   "cell_type": "code",
   "execution_count": 81,
   "id": "4f1e4f11-e0ed-4d6a-a1c7-fa4b6dc660eb",
   "metadata": {},
   "outputs": [
    {
     "name": "stdout",
     "output_type": "stream",
     "text": [
      "\u001b[1m231/231\u001b[0m \u001b[32m━━━━━━━━━━━━━━━━━━━━\u001b[0m\u001b[37m\u001b[0m \u001b[1m2s\u001b[0m 8ms/step\n",
      "Average Localisation Error: 0.18973636435638866\n",
      "RMSE: 0.1440058253364601\n"
     ]
    }
   ],
   "source": [
    "final_predictions = model.predict(normalized_x_test)\n",
    "final_mse = mean_squared_error(normalized_y_test, final_predictions)\n",
    "final_rmse = np.sqrt(mse)\n",
    "predicted_coords = final_predictions\n",
    "ground_truth_coords = normalized_y_test.tolist()\n",
    "avg_error = average_localization_error(predicted_coords, ground_truth_coords)\n",
    "print(\"Average Localisation Error:\", avg_error)\n",
    "print(\"RMSE:\", final_rmse) \n",
    "# print(final_predictions, normalized_y_test.tolist())"
   ]
  },
  {
   "cell_type": "code",
   "execution_count": null,
   "id": "edf715df-ecf6-4371-bd0b-141420e48fe5",
   "metadata": {},
   "outputs": [],
   "source": []
  },
  {
   "cell_type": "code",
   "execution_count": null,
   "id": "24c41bab-b55a-42a4-a5f2-5996068bf933",
   "metadata": {},
   "outputs": [],
   "source": []
  }
 ],
 "metadata": {
  "kernelspec": {
   "display_name": "Python 3 (ipykernel)",
   "language": "python",
   "name": "python3"
  },
  "language_info": {
   "codemirror_mode": {
    "name": "ipython",
    "version": 3
   },
   "file_extension": ".py",
   "mimetype": "text/x-python",
   "name": "python",
   "nbconvert_exporter": "python",
   "pygments_lexer": "ipython3",
   "version": "3.12.2"
  }
 },
 "nbformat": 4,
 "nbformat_minor": 5
}
