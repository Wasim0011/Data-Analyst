{
 "cells": [
  {
   "cell_type": "code",
   "execution_count": 2,
   "id": "921b1453-cf75-4425-9550-4c228652bc1d",
   "metadata": {},
   "outputs": [],
   "source": [
    "import pandas as pd\n",
    "signal = pd.read_excel(\"first.train.xlsx\")"
   ]
  },
  {
   "cell_type": "markdown",
   "id": "d1d01d27-74e5-4e80-8c84-f8763efee1fc",
   "metadata": {},
   "source": [
    "## Function to Calculate Average Localisation Error"
   ]
  },
  {
   "cell_type": "code",
   "execution_count": 3,
   "id": "2720f2b5-0e4f-472c-9f84-60d5dc402c77",
   "metadata": {},
   "outputs": [],
   "source": [
    "def euclidean_distance(coord1, coord2):\n",
    "    return np.linalg.norm(coord1 - coord2)\n",
    "\n",
    "def average_localization_error(predicted_coords, ground_truth_coords):\n",
    "    errors = []\n",
    "    for pred_coord, gt_coord in zip(predicted_coords, ground_truth_coords):\n",
    "        error = euclidean_distance(pred_coord, gt_coord)\n",
    "        errors.append(error)\n",
    "    return np.mean(errors)"
   ]
  },
  {
   "cell_type": "markdown",
   "id": "f75bbb66-9c0a-407a-a1d7-b3e413629b83",
   "metadata": {},
   "source": [
    "## Preparing the data to fit into CNN Model"
   ]
  },
  {
   "cell_type": "code",
   "execution_count": 4,
   "id": "c0f9561f-fef5-47a6-9073-c77a1fa1b88e",
   "metadata": {},
   "outputs": [
    {
     "data": {
      "text/html": [
       "<div>\n",
       "<style scoped>\n",
       "    .dataframe tbody tr th:only-of-type {\n",
       "        vertical-align: middle;\n",
       "    }\n",
       "\n",
       "    .dataframe tbody tr th {\n",
       "        vertical-align: top;\n",
       "    }\n",
       "\n",
       "    .dataframe thead th {\n",
       "        text-align: right;\n",
       "    }\n",
       "</style>\n",
       "<table border=\"1\" class=\"dataframe\">\n",
       "  <thead>\n",
       "    <tr style=\"text-align: right;\">\n",
       "      <th></th>\n",
       "      <th>WAP001</th>\n",
       "      <th>WAP002</th>\n",
       "      <th>WAP003</th>\n",
       "      <th>WAP004</th>\n",
       "      <th>WAP005</th>\n",
       "      <th>WAP006</th>\n",
       "      <th>WAP007</th>\n",
       "      <th>WAP008</th>\n",
       "      <th>WAP009</th>\n",
       "      <th>WAP010</th>\n",
       "      <th>...</th>\n",
       "      <th>WAP618</th>\n",
       "      <th>WAP619</th>\n",
       "      <th>WAP620</th>\n",
       "      <th>id</th>\n",
       "      <th>timestamp</th>\n",
       "      <th>x</th>\n",
       "      <th>y</th>\n",
       "      <th>f</th>\n",
       "      <th>Labels</th>\n",
       "      <th>Actual_labels</th>\n",
       "    </tr>\n",
       "  </thead>\n",
       "  <tbody>\n",
       "    <tr>\n",
       "      <th>count</th>\n",
       "      <td>8640.000000</td>\n",
       "      <td>8640.000000</td>\n",
       "      <td>8640.000000</td>\n",
       "      <td>8640.000000</td>\n",
       "      <td>8640.000000</td>\n",
       "      <td>8640.000000</td>\n",
       "      <td>8640.000000</td>\n",
       "      <td>8640.000000</td>\n",
       "      <td>8640.000000</td>\n",
       "      <td>8640.000000</td>\n",
       "      <td>...</td>\n",
       "      <td>8640.0</td>\n",
       "      <td>8640.0</td>\n",
       "      <td>8640.0</td>\n",
       "      <td>8.640000e+03</td>\n",
       "      <td>8.640000e+03</td>\n",
       "      <td>8640.000000</td>\n",
       "      <td>8640.000000</td>\n",
       "      <td>8640.000000</td>\n",
       "      <td>8640.000000</td>\n",
       "      <td>8640.000000</td>\n",
       "    </tr>\n",
       "    <tr>\n",
       "      <th>mean</th>\n",
       "      <td>-7.038310</td>\n",
       "      <td>-3.175926</td>\n",
       "      <td>2.209722</td>\n",
       "      <td>10.110880</td>\n",
       "      <td>59.010764</td>\n",
       "      <td>-7.260532</td>\n",
       "      <td>4.066088</td>\n",
       "      <td>8.981134</td>\n",
       "      <td>10.331944</td>\n",
       "      <td>58.375926</td>\n",
       "      <td>...</td>\n",
       "      <td>100.0</td>\n",
       "      <td>100.0</td>\n",
       "      <td>100.0</td>\n",
       "      <td>1.081049e+08</td>\n",
       "      <td>2.016062e+16</td>\n",
       "      <td>8.524312</td>\n",
       "      <td>22.949487</td>\n",
       "      <td>4.000000</td>\n",
       "      <td>24.514583</td>\n",
       "      <td>23.514583</td>\n",
       "    </tr>\n",
       "    <tr>\n",
       "      <th>std</th>\n",
       "      <td>89.807832</td>\n",
       "      <td>88.172132</td>\n",
       "      <td>88.163900</td>\n",
       "      <td>91.235399</td>\n",
       "      <td>77.150028</td>\n",
       "      <td>89.780622</td>\n",
       "      <td>88.206010</td>\n",
       "      <td>91.256607</td>\n",
       "      <td>90.218637</td>\n",
       "      <td>77.588284</td>\n",
       "      <td>...</td>\n",
       "      <td>0.0</td>\n",
       "      <td>0.0</td>\n",
       "      <td>0.0</td>\n",
       "      <td>4.320745e+06</td>\n",
       "      <td>6.685720e+09</td>\n",
       "      <td>3.584252</td>\n",
       "      <td>4.097289</td>\n",
       "      <td>1.000058</td>\n",
       "      <td>13.842608</td>\n",
       "      <td>13.842608</td>\n",
       "    </tr>\n",
       "    <tr>\n",
       "      <th>min</th>\n",
       "      <td>-97.000000</td>\n",
       "      <td>-97.000000</td>\n",
       "      <td>-95.000000</td>\n",
       "      <td>-95.000000</td>\n",
       "      <td>-97.000000</td>\n",
       "      <td>-98.000000</td>\n",
       "      <td>-95.000000</td>\n",
       "      <td>-95.000000</td>\n",
       "      <td>-98.000000</td>\n",
       "      <td>-96.000000</td>\n",
       "      <td>...</td>\n",
       "      <td>100.0</td>\n",
       "      <td>100.0</td>\n",
       "      <td>100.0</td>\n",
       "      <td>1.011001e+08</td>\n",
       "      <td>2.016060e+16</td>\n",
       "      <td>4.134772</td>\n",
       "      <td>16.699815</td>\n",
       "      <td>3.000000</td>\n",
       "      <td>1.000000</td>\n",
       "      <td>0.000000</td>\n",
       "    </tr>\n",
       "    <tr>\n",
       "      <th>25%</th>\n",
       "      <td>-85.000000</td>\n",
       "      <td>-82.000000</td>\n",
       "      <td>-80.000000</td>\n",
       "      <td>-83.000000</td>\n",
       "      <td>100.000000</td>\n",
       "      <td>-85.000000</td>\n",
       "      <td>-79.000000</td>\n",
       "      <td>-83.000000</td>\n",
       "      <td>-82.000000</td>\n",
       "      <td>100.000000</td>\n",
       "      <td>...</td>\n",
       "      <td>100.0</td>\n",
       "      <td>100.0</td>\n",
       "      <td>100.0</td>\n",
       "      <td>1.041073e+08</td>\n",
       "      <td>2.016061e+16</td>\n",
       "      <td>4.134772</td>\n",
       "      <td>18.487919</td>\n",
       "      <td>3.000000</td>\n",
       "      <td>13.000000</td>\n",
       "      <td>12.000000</td>\n",
       "    </tr>\n",
       "    <tr>\n",
       "      <th>50%</th>\n",
       "      <td>-75.000000</td>\n",
       "      <td>-64.000000</td>\n",
       "      <td>-62.000000</td>\n",
       "      <td>100.000000</td>\n",
       "      <td>100.000000</td>\n",
       "      <td>-75.000000</td>\n",
       "      <td>-61.000000</td>\n",
       "      <td>100.000000</td>\n",
       "      <td>100.000000</td>\n",
       "      <td>100.000000</td>\n",
       "      <td>...</td>\n",
       "      <td>100.0</td>\n",
       "      <td>100.0</td>\n",
       "      <td>100.0</td>\n",
       "      <td>1.081049e+08</td>\n",
       "      <td>2.016062e+16</td>\n",
       "      <td>8.524312</td>\n",
       "      <td>22.064128</td>\n",
       "      <td>4.000000</td>\n",
       "      <td>24.500000</td>\n",
       "      <td>23.500000</td>\n",
       "    </tr>\n",
       "    <tr>\n",
       "      <th>75%</th>\n",
       "      <td>100.000000</td>\n",
       "      <td>100.000000</td>\n",
       "      <td>100.000000</td>\n",
       "      <td>100.000000</td>\n",
       "      <td>100.000000</td>\n",
       "      <td>100.000000</td>\n",
       "      <td>100.000000</td>\n",
       "      <td>100.000000</td>\n",
       "      <td>100.000000</td>\n",
       "      <td>100.000000</td>\n",
       "      <td>...</td>\n",
       "      <td>100.0</td>\n",
       "      <td>100.0</td>\n",
       "      <td>100.0</td>\n",
       "      <td>1.121024e+08</td>\n",
       "      <td>2.016062e+16</td>\n",
       "      <td>12.913852</td>\n",
       "      <td>25.640336</td>\n",
       "      <td>5.000000</td>\n",
       "      <td>36.250000</td>\n",
       "      <td>35.250000</td>\n",
       "    </tr>\n",
       "    <tr>\n",
       "      <th>max</th>\n",
       "      <td>100.000000</td>\n",
       "      <td>100.000000</td>\n",
       "      <td>100.000000</td>\n",
       "      <td>100.000000</td>\n",
       "      <td>100.000000</td>\n",
       "      <td>100.000000</td>\n",
       "      <td>100.000000</td>\n",
       "      <td>100.000000</td>\n",
       "      <td>100.000000</td>\n",
       "      <td>100.000000</td>\n",
       "      <td>...</td>\n",
       "      <td>100.0</td>\n",
       "      <td>100.0</td>\n",
       "      <td>100.0</td>\n",
       "      <td>1.151096e+08</td>\n",
       "      <td>2.016062e+16</td>\n",
       "      <td>12.913852</td>\n",
       "      <td>29.216544</td>\n",
       "      <td>5.000000</td>\n",
       "      <td>48.000000</td>\n",
       "      <td>47.000000</td>\n",
       "    </tr>\n",
       "  </tbody>\n",
       "</table>\n",
       "<p>8 rows × 627 columns</p>\n",
       "</div>"
      ],
      "text/plain": [
       "            WAP001       WAP002       WAP003       WAP004       WAP005  \\\n",
       "count  8640.000000  8640.000000  8640.000000  8640.000000  8640.000000   \n",
       "mean     -7.038310    -3.175926     2.209722    10.110880    59.010764   \n",
       "std      89.807832    88.172132    88.163900    91.235399    77.150028   \n",
       "min     -97.000000   -97.000000   -95.000000   -95.000000   -97.000000   \n",
       "25%     -85.000000   -82.000000   -80.000000   -83.000000   100.000000   \n",
       "50%     -75.000000   -64.000000   -62.000000   100.000000   100.000000   \n",
       "75%     100.000000   100.000000   100.000000   100.000000   100.000000   \n",
       "max     100.000000   100.000000   100.000000   100.000000   100.000000   \n",
       "\n",
       "            WAP006       WAP007       WAP008       WAP009       WAP010  ...  \\\n",
       "count  8640.000000  8640.000000  8640.000000  8640.000000  8640.000000  ...   \n",
       "mean     -7.260532     4.066088     8.981134    10.331944    58.375926  ...   \n",
       "std      89.780622    88.206010    91.256607    90.218637    77.588284  ...   \n",
       "min     -98.000000   -95.000000   -95.000000   -98.000000   -96.000000  ...   \n",
       "25%     -85.000000   -79.000000   -83.000000   -82.000000   100.000000  ...   \n",
       "50%     -75.000000   -61.000000   100.000000   100.000000   100.000000  ...   \n",
       "75%     100.000000   100.000000   100.000000   100.000000   100.000000  ...   \n",
       "max     100.000000   100.000000   100.000000   100.000000   100.000000  ...   \n",
       "\n",
       "       WAP618  WAP619  WAP620            id     timestamp            x  \\\n",
       "count  8640.0  8640.0  8640.0  8.640000e+03  8.640000e+03  8640.000000   \n",
       "mean    100.0   100.0   100.0  1.081049e+08  2.016062e+16     8.524312   \n",
       "std       0.0     0.0     0.0  4.320745e+06  6.685720e+09     3.584252   \n",
       "min     100.0   100.0   100.0  1.011001e+08  2.016060e+16     4.134772   \n",
       "25%     100.0   100.0   100.0  1.041073e+08  2.016061e+16     4.134772   \n",
       "50%     100.0   100.0   100.0  1.081049e+08  2.016062e+16     8.524312   \n",
       "75%     100.0   100.0   100.0  1.121024e+08  2.016062e+16    12.913852   \n",
       "max     100.0   100.0   100.0  1.151096e+08  2.016062e+16    12.913852   \n",
       "\n",
       "                 y            f       Labels  Actual_labels  \n",
       "count  8640.000000  8640.000000  8640.000000    8640.000000  \n",
       "mean     22.949487     4.000000    24.514583      23.514583  \n",
       "std       4.097289     1.000058    13.842608      13.842608  \n",
       "min      16.699815     3.000000     1.000000       0.000000  \n",
       "25%      18.487919     3.000000    13.000000      12.000000  \n",
       "50%      22.064128     4.000000    24.500000      23.500000  \n",
       "75%      25.640336     5.000000    36.250000      35.250000  \n",
       "max      29.216544     5.000000    48.000000      47.000000  \n",
       "\n",
       "[8 rows x 627 columns]"
      ]
     },
     "execution_count": 4,
     "metadata": {},
     "output_type": "execute_result"
    }
   ],
   "source": [
    "signal.describe()"
   ]
  },
  {
   "cell_type": "code",
   "execution_count": 49,
   "id": "78d4e85a-4cfb-4dc0-8b63-88450d5ad6e5",
   "metadata": {},
   "outputs": [
    {
     "data": {
      "text/html": [
       "<div>\n",
       "<style scoped>\n",
       "    .dataframe tbody tr th:only-of-type {\n",
       "        vertical-align: middle;\n",
       "    }\n",
       "\n",
       "    .dataframe tbody tr th {\n",
       "        vertical-align: top;\n",
       "    }\n",
       "\n",
       "    .dataframe thead th {\n",
       "        text-align: right;\n",
       "    }\n",
       "</style>\n",
       "<table border=\"1\" class=\"dataframe\">\n",
       "  <thead>\n",
       "    <tr style=\"text-align: right;\">\n",
       "      <th></th>\n",
       "      <th>x</th>\n",
       "      <th>y</th>\n",
       "    </tr>\n",
       "  </thead>\n",
       "  <tbody>\n",
       "    <tr>\n",
       "      <th>0</th>\n",
       "      <td>12.913852</td>\n",
       "      <td>29.216544</td>\n",
       "    </tr>\n",
       "    <tr>\n",
       "      <th>1</th>\n",
       "      <td>12.913852</td>\n",
       "      <td>29.216544</td>\n",
       "    </tr>\n",
       "    <tr>\n",
       "      <th>2</th>\n",
       "      <td>12.913852</td>\n",
       "      <td>29.216544</td>\n",
       "    </tr>\n",
       "    <tr>\n",
       "      <th>3</th>\n",
       "      <td>12.913852</td>\n",
       "      <td>29.216544</td>\n",
       "    </tr>\n",
       "    <tr>\n",
       "      <th>4</th>\n",
       "      <td>12.913852</td>\n",
       "      <td>29.216544</td>\n",
       "    </tr>\n",
       "    <tr>\n",
       "      <th>...</th>\n",
       "      <td>...</td>\n",
       "      <td>...</td>\n",
       "    </tr>\n",
       "    <tr>\n",
       "      <th>8635</th>\n",
       "      <td>12.913852</td>\n",
       "      <td>29.216544</td>\n",
       "    </tr>\n",
       "    <tr>\n",
       "      <th>8636</th>\n",
       "      <td>12.913852</td>\n",
       "      <td>29.216544</td>\n",
       "    </tr>\n",
       "    <tr>\n",
       "      <th>8637</th>\n",
       "      <td>12.913852</td>\n",
       "      <td>29.216544</td>\n",
       "    </tr>\n",
       "    <tr>\n",
       "      <th>8638</th>\n",
       "      <td>12.913852</td>\n",
       "      <td>29.216544</td>\n",
       "    </tr>\n",
       "    <tr>\n",
       "      <th>8639</th>\n",
       "      <td>12.913852</td>\n",
       "      <td>29.216544</td>\n",
       "    </tr>\n",
       "  </tbody>\n",
       "</table>\n",
       "<p>8640 rows × 2 columns</p>\n",
       "</div>"
      ],
      "text/plain": [
       "              x          y\n",
       "0     12.913852  29.216544\n",
       "1     12.913852  29.216544\n",
       "2     12.913852  29.216544\n",
       "3     12.913852  29.216544\n",
       "4     12.913852  29.216544\n",
       "...         ...        ...\n",
       "8635  12.913852  29.216544\n",
       "8636  12.913852  29.216544\n",
       "8637  12.913852  29.216544\n",
       "8638  12.913852  29.216544\n",
       "8639  12.913852  29.216544\n",
       "\n",
       "[8640 rows x 2 columns]"
      ]
     },
     "execution_count": 49,
     "metadata": {},
     "output_type": "execute_result"
    }
   ],
   "source": [
    "signal_labels"
   ]
  },
  {
   "cell_type": "code",
   "execution_count": 50,
   "id": "7ab857fc-5c43-41c3-a1a8-5dd31a04b74c",
   "metadata": {},
   "outputs": [],
   "source": [
    "signal_shape = signal.shape\n",
    "signal_labels_shape = signal_labels.shape"
   ]
  },
  {
   "cell_type": "code",
   "execution_count": 51,
   "id": "a51e4f09-0720-458a-b1ca-d44885ac63fb",
   "metadata": {},
   "outputs": [
    {
     "data": {
      "text/plain": [
       "(8640, 623)"
      ]
     },
     "execution_count": 51,
     "metadata": {},
     "output_type": "execute_result"
    }
   ],
   "source": [
    "signal_shape"
   ]
  },
  {
   "cell_type": "code",
   "execution_count": 52,
   "id": "61c873bd-9ec5-4cb7-8787-27f0e1b14e4c",
   "metadata": {},
   "outputs": [
    {
     "data": {
      "text/plain": [
       "(8640, 2)"
      ]
     },
     "execution_count": 52,
     "metadata": {},
     "output_type": "execute_result"
    }
   ],
   "source": [
    "signal_labels_shape"
   ]
  },
  {
   "cell_type": "markdown",
   "id": "07b6adeb-9fcc-46c6-ae11-2a03f8d9957c",
   "metadata": {},
   "source": [
    "## Reshaping the Data"
   ]
  },
  {
   "cell_type": "code",
   "execution_count": 53,
   "id": "f6cd3d41-e1e3-4772-8974-8a16d8c77c20",
   "metadata": {},
   "outputs": [],
   "source": [
    "import numpy as np\n",
    "signal_array = signal.values\n",
    "reshaped_signal = signal_array.reshape(signal_shape[0], signal_shape[1], 1)\n",
    "\n",
    "signal_labels_array = signal_labels.values\n",
    "reshaped_signal_labels = signal_labels_array.reshape(signal_labels_shape[0], signal_labels_shape[1], 1)"
   ]
  },
  {
   "cell_type": "markdown",
   "id": "0d8556fc-b2ec-4315-aa75-6b4ecadc10df",
   "metadata": {},
   "source": [
    "## Normalizing the data"
   ]
  },
  {
   "cell_type": "code",
   "execution_count": 54,
   "id": "579b0d98-d7ca-4de6-8731-97e512c10448",
   "metadata": {},
   "outputs": [],
   "source": [
    "from sklearn.preprocessing import MinMaxScaler\n",
    "flattened_signal = reshaped_signal.reshape(-1, 1)\n",
    "scaler = MinMaxScaler()\n",
    "normalized_flattened_signal = scaler.fit_transform(flattened_signal)\n",
    "normalized_signal = normalized_flattened_signal.reshape(reshaped_signal.shape)\n",
    "\n",
    "flattened_signal_labels = reshaped_signal_labels.reshape(-1, 1)\n",
    "normalized_flattened_signal_labels = scaler.fit_transform(flattened_signal_labels)\n",
    "normalized_signal_labels = normalized_flattened_signal_labels.reshape(reshaped_signal_labels.shape)"
   ]
  },
  {
   "cell_type": "code",
   "execution_count": 55,
   "id": "d3aebf10-c92b-4016-bc07-b4b265390e9e",
   "metadata": {},
   "outputs": [
    {
     "data": {
      "text/plain": [
       "(8640, 623, 1)"
      ]
     },
     "execution_count": 55,
     "metadata": {},
     "output_type": "execute_result"
    }
   ],
   "source": [
    "normalized_signal.shape"
   ]
  },
  {
   "cell_type": "code",
   "execution_count": 56,
   "id": "6b01a271-69d8-4202-8427-d5aad78594c0",
   "metadata": {},
   "outputs": [
    {
     "data": {
      "text/plain": [
       "(8640, 2, 1)"
      ]
     },
     "execution_count": 56,
     "metadata": {},
     "output_type": "execute_result"
    }
   ],
   "source": [
    "normalized_signal_labels.shape"
   ]
  },
  {
   "cell_type": "markdown",
   "id": "afc9ea45-cb1b-4714-9856-a017f64e44c1",
   "metadata": {},
   "source": [
    "## Creating CNN Model"
   ]
  },
  {
   "cell_type": "code",
   "execution_count": 57,
   "id": "0beaeffc-ae8d-4012-8bda-4d7104bb6e94",
   "metadata": {},
   "outputs": [
    {
     "name": "stderr",
     "output_type": "stream",
     "text": [
      "C:\\Users\\wmd04\\AppData\\Local\\Programs\\Python\\Python312\\Lib\\site-packages\\keras\\src\\layers\\convolutional\\base_conv.py:107: UserWarning: Do not pass an `input_shape`/`input_dim` argument to a layer. When using Sequential models, prefer using an `Input(shape)` object as the first layer in the model instead.\n",
      "  super().__init__(activity_regularizer=activity_regularizer, **kwargs)\n"
     ]
    },
    {
     "data": {
      "text/html": [
       "<pre style=\"white-space:pre;overflow-x:auto;line-height:normal;font-family:Menlo,'DejaVu Sans Mono',consolas,'Courier New',monospace\"><span style=\"font-weight: bold\">Model: \"sequential\"</span>\n",
       "</pre>\n"
      ],
      "text/plain": [
       "\u001b[1mModel: \"sequential\"\u001b[0m\n"
      ]
     },
     "metadata": {},
     "output_type": "display_data"
    },
    {
     "data": {
      "text/html": [
       "<pre style=\"white-space:pre;overflow-x:auto;line-height:normal;font-family:Menlo,'DejaVu Sans Mono',consolas,'Courier New',monospace\">┏━━━━━━━━━━━━━━━━━━━━━━━━━━━━━━━━━━━━━━┳━━━━━━━━━━━━━━━━━━━━━━━━━━━━━┳━━━━━━━━━━━━━━━━━┓\n",
       "┃<span style=\"font-weight: bold\"> Layer (type)                         </span>┃<span style=\"font-weight: bold\"> Output Shape                </span>┃<span style=\"font-weight: bold\">         Param # </span>┃\n",
       "┡━━━━━━━━━━━━━━━━━━━━━━━━━━━━━━━━━━━━━━╇━━━━━━━━━━━━━━━━━━━━━━━━━━━━━╇━━━━━━━━━━━━━━━━━┩\n",
       "│ conv1d (<span style=\"color: #0087ff; text-decoration-color: #0087ff\">Conv1D</span>)                      │ (<span style=\"color: #00d7ff; text-decoration-color: #00d7ff\">None</span>, <span style=\"color: #00af00; text-decoration-color: #00af00\">621</span>, <span style=\"color: #00af00; text-decoration-color: #00af00\">32</span>)             │             <span style=\"color: #00af00; text-decoration-color: #00af00\">128</span> │\n",
       "├──────────────────────────────────────┼─────────────────────────────┼─────────────────┤\n",
       "│ max_pooling1d (<span style=\"color: #0087ff; text-decoration-color: #0087ff\">MaxPooling1D</span>)         │ (<span style=\"color: #00d7ff; text-decoration-color: #00d7ff\">None</span>, <span style=\"color: #00af00; text-decoration-color: #00af00\">310</span>, <span style=\"color: #00af00; text-decoration-color: #00af00\">32</span>)             │               <span style=\"color: #00af00; text-decoration-color: #00af00\">0</span> │\n",
       "├──────────────────────────────────────┼─────────────────────────────┼─────────────────┤\n",
       "│ conv1d_1 (<span style=\"color: #0087ff; text-decoration-color: #0087ff\">Conv1D</span>)                    │ (<span style=\"color: #00d7ff; text-decoration-color: #00d7ff\">None</span>, <span style=\"color: #00af00; text-decoration-color: #00af00\">308</span>, <span style=\"color: #00af00; text-decoration-color: #00af00\">64</span>)             │           <span style=\"color: #00af00; text-decoration-color: #00af00\">6,208</span> │\n",
       "├──────────────────────────────────────┼─────────────────────────────┼─────────────────┤\n",
       "│ max_pooling1d_1 (<span style=\"color: #0087ff; text-decoration-color: #0087ff\">MaxPooling1D</span>)       │ (<span style=\"color: #00d7ff; text-decoration-color: #00d7ff\">None</span>, <span style=\"color: #00af00; text-decoration-color: #00af00\">154</span>, <span style=\"color: #00af00; text-decoration-color: #00af00\">64</span>)             │               <span style=\"color: #00af00; text-decoration-color: #00af00\">0</span> │\n",
       "├──────────────────────────────────────┼─────────────────────────────┼─────────────────┤\n",
       "│ flatten (<span style=\"color: #0087ff; text-decoration-color: #0087ff\">Flatten</span>)                    │ (<span style=\"color: #00d7ff; text-decoration-color: #00d7ff\">None</span>, <span style=\"color: #00af00; text-decoration-color: #00af00\">9856</span>)                │               <span style=\"color: #00af00; text-decoration-color: #00af00\">0</span> │\n",
       "├──────────────────────────────────────┼─────────────────────────────┼─────────────────┤\n",
       "│ dense (<span style=\"color: #0087ff; text-decoration-color: #0087ff\">Dense</span>)                        │ (<span style=\"color: #00d7ff; text-decoration-color: #00d7ff\">None</span>, <span style=\"color: #00af00; text-decoration-color: #00af00\">128</span>)                 │       <span style=\"color: #00af00; text-decoration-color: #00af00\">1,261,696</span> │\n",
       "├──────────────────────────────────────┼─────────────────────────────┼─────────────────┤\n",
       "│ dense_1 (<span style=\"color: #0087ff; text-decoration-color: #0087ff\">Dense</span>)                      │ (<span style=\"color: #00d7ff; text-decoration-color: #00d7ff\">None</span>, <span style=\"color: #00af00; text-decoration-color: #00af00\">2</span>)                   │             <span style=\"color: #00af00; text-decoration-color: #00af00\">258</span> │\n",
       "└──────────────────────────────────────┴─────────────────────────────┴─────────────────┘\n",
       "</pre>\n"
      ],
      "text/plain": [
       "┏━━━━━━━━━━━━━━━━━━━━━━━━━━━━━━━━━━━━━━┳━━━━━━━━━━━━━━━━━━━━━━━━━━━━━┳━━━━━━━━━━━━━━━━━┓\n",
       "┃\u001b[1m \u001b[0m\u001b[1mLayer (type)                        \u001b[0m\u001b[1m \u001b[0m┃\u001b[1m \u001b[0m\u001b[1mOutput Shape               \u001b[0m\u001b[1m \u001b[0m┃\u001b[1m \u001b[0m\u001b[1m        Param #\u001b[0m\u001b[1m \u001b[0m┃\n",
       "┡━━━━━━━━━━━━━━━━━━━━━━━━━━━━━━━━━━━━━━╇━━━━━━━━━━━━━━━━━━━━━━━━━━━━━╇━━━━━━━━━━━━━━━━━┩\n",
       "│ conv1d (\u001b[38;5;33mConv1D\u001b[0m)                      │ (\u001b[38;5;45mNone\u001b[0m, \u001b[38;5;34m621\u001b[0m, \u001b[38;5;34m32\u001b[0m)             │             \u001b[38;5;34m128\u001b[0m │\n",
       "├──────────────────────────────────────┼─────────────────────────────┼─────────────────┤\n",
       "│ max_pooling1d (\u001b[38;5;33mMaxPooling1D\u001b[0m)         │ (\u001b[38;5;45mNone\u001b[0m, \u001b[38;5;34m310\u001b[0m, \u001b[38;5;34m32\u001b[0m)             │               \u001b[38;5;34m0\u001b[0m │\n",
       "├──────────────────────────────────────┼─────────────────────────────┼─────────────────┤\n",
       "│ conv1d_1 (\u001b[38;5;33mConv1D\u001b[0m)                    │ (\u001b[38;5;45mNone\u001b[0m, \u001b[38;5;34m308\u001b[0m, \u001b[38;5;34m64\u001b[0m)             │           \u001b[38;5;34m6,208\u001b[0m │\n",
       "├──────────────────────────────────────┼─────────────────────────────┼─────────────────┤\n",
       "│ max_pooling1d_1 (\u001b[38;5;33mMaxPooling1D\u001b[0m)       │ (\u001b[38;5;45mNone\u001b[0m, \u001b[38;5;34m154\u001b[0m, \u001b[38;5;34m64\u001b[0m)             │               \u001b[38;5;34m0\u001b[0m │\n",
       "├──────────────────────────────────────┼─────────────────────────────┼─────────────────┤\n",
       "│ flatten (\u001b[38;5;33mFlatten\u001b[0m)                    │ (\u001b[38;5;45mNone\u001b[0m, \u001b[38;5;34m9856\u001b[0m)                │               \u001b[38;5;34m0\u001b[0m │\n",
       "├──────────────────────────────────────┼─────────────────────────────┼─────────────────┤\n",
       "│ dense (\u001b[38;5;33mDense\u001b[0m)                        │ (\u001b[38;5;45mNone\u001b[0m, \u001b[38;5;34m128\u001b[0m)                 │       \u001b[38;5;34m1,261,696\u001b[0m │\n",
       "├──────────────────────────────────────┼─────────────────────────────┼─────────────────┤\n",
       "│ dense_1 (\u001b[38;5;33mDense\u001b[0m)                      │ (\u001b[38;5;45mNone\u001b[0m, \u001b[38;5;34m2\u001b[0m)                   │             \u001b[38;5;34m258\u001b[0m │\n",
       "└──────────────────────────────────────┴─────────────────────────────┴─────────────────┘\n"
      ]
     },
     "metadata": {},
     "output_type": "display_data"
    },
    {
     "data": {
      "text/html": [
       "<pre style=\"white-space:pre;overflow-x:auto;line-height:normal;font-family:Menlo,'DejaVu Sans Mono',consolas,'Courier New',monospace\"><span style=\"font-weight: bold\"> Total params: </span><span style=\"color: #00af00; text-decoration-color: #00af00\">1,268,290</span> (4.84 MB)\n",
       "</pre>\n"
      ],
      "text/plain": [
       "\u001b[1m Total params: \u001b[0m\u001b[38;5;34m1,268,290\u001b[0m (4.84 MB)\n"
      ]
     },
     "metadata": {},
     "output_type": "display_data"
    },
    {
     "data": {
      "text/html": [
       "<pre style=\"white-space:pre;overflow-x:auto;line-height:normal;font-family:Menlo,'DejaVu Sans Mono',consolas,'Courier New',monospace\"><span style=\"font-weight: bold\"> Trainable params: </span><span style=\"color: #00af00; text-decoration-color: #00af00\">1,268,290</span> (4.84 MB)\n",
       "</pre>\n"
      ],
      "text/plain": [
       "\u001b[1m Trainable params: \u001b[0m\u001b[38;5;34m1,268,290\u001b[0m (4.84 MB)\n"
      ]
     },
     "metadata": {},
     "output_type": "display_data"
    },
    {
     "data": {
      "text/html": [
       "<pre style=\"white-space:pre;overflow-x:auto;line-height:normal;font-family:Menlo,'DejaVu Sans Mono',consolas,'Courier New',monospace\"><span style=\"font-weight: bold\"> Non-trainable params: </span><span style=\"color: #00af00; text-decoration-color: #00af00\">0</span> (0.00 B)\n",
       "</pre>\n"
      ],
      "text/plain": [
       "\u001b[1m Non-trainable params: \u001b[0m\u001b[38;5;34m0\u001b[0m (0.00 B)\n"
      ]
     },
     "metadata": {},
     "output_type": "display_data"
    },
    {
     "name": "stdout",
     "output_type": "stream",
     "text": [
      "Epoch 1/10\n",
      "\u001b[1m216/216\u001b[0m \u001b[32m━━━━━━━━━━━━━━━━━━━━\u001b[0m\u001b[37m\u001b[0m \u001b[1m10s\u001b[0m 33ms/step - loss: 0.0599 - mae: 0.1819 - val_loss: 0.0248 - val_mae: 0.1327\n",
      "Epoch 2/10\n",
      "\u001b[1m216/216\u001b[0m \u001b[32m━━━━━━━━━━━━━━━━━━━━\u001b[0m\u001b[37m\u001b[0m \u001b[1m7s\u001b[0m 32ms/step - loss: 0.0246 - mae: 0.1345 - val_loss: 0.0240 - val_mae: 0.1329\n",
      "Epoch 3/10\n",
      "\u001b[1m216/216\u001b[0m \u001b[32m━━━━━━━━━━━━━━━━━━━━\u001b[0m\u001b[37m\u001b[0m \u001b[1m6s\u001b[0m 29ms/step - loss: 0.0243 - mae: 0.1342 - val_loss: 0.0238 - val_mae: 0.1301\n",
      "Epoch 4/10\n",
      "\u001b[1m216/216\u001b[0m \u001b[32m━━━━━━━━━━━━━━━━━━━━\u001b[0m\u001b[37m\u001b[0m \u001b[1m6s\u001b[0m 29ms/step - loss: 0.0245 - mae: 0.1336 - val_loss: 0.0238 - val_mae: 0.1327\n",
      "Epoch 5/10\n",
      "\u001b[1m216/216\u001b[0m \u001b[32m━━━━━━━━━━━━━━━━━━━━\u001b[0m\u001b[37m\u001b[0m \u001b[1m6s\u001b[0m 29ms/step - loss: 0.0240 - mae: 0.1325 - val_loss: 0.0237 - val_mae: 0.1307\n",
      "Epoch 6/10\n",
      "\u001b[1m216/216\u001b[0m \u001b[32m━━━━━━━━━━━━━━━━━━━━\u001b[0m\u001b[37m\u001b[0m \u001b[1m7s\u001b[0m 30ms/step - loss: 0.0246 - mae: 0.1344 - val_loss: 0.0286 - val_mae: 0.1415\n",
      "Epoch 7/10\n",
      "\u001b[1m216/216\u001b[0m \u001b[32m━━━━━━━━━━━━━━━━━━━━\u001b[0m\u001b[37m\u001b[0m \u001b[1m6s\u001b[0m 28ms/step - loss: 0.0241 - mae: 0.1313 - val_loss: 0.0241 - val_mae: 0.1315\n",
      "Epoch 8/10\n",
      "\u001b[1m216/216\u001b[0m \u001b[32m━━━━━━━━━━━━━━━━━━━━\u001b[0m\u001b[37m\u001b[0m \u001b[1m6s\u001b[0m 28ms/step - loss: 0.0241 - mae: 0.1324 - val_loss: 0.0237 - val_mae: 0.1297\n",
      "Epoch 9/10\n",
      "\u001b[1m216/216\u001b[0m \u001b[32m━━━━━━━━━━━━━━━━━━━━\u001b[0m\u001b[37m\u001b[0m \u001b[1m6s\u001b[0m 28ms/step - loss: 0.0242 - mae: 0.1324 - val_loss: 0.0237 - val_mae: 0.1298\n",
      "Epoch 10/10\n",
      "\u001b[1m216/216\u001b[0m \u001b[32m━━━━━━━━━━━━━━━━━━━━\u001b[0m\u001b[37m\u001b[0m \u001b[1m6s\u001b[0m 29ms/step - loss: 0.0242 - mae: 0.1331 - val_loss: 0.0238 - val_mae: 0.1298\n"
     ]
    },
    {
     "data": {
      "text/plain": [
       "<keras.src.callbacks.history.History at 0x1dbe09b4aa0>"
      ]
     },
     "execution_count": 57,
     "metadata": {},
     "output_type": "execute_result"
    }
   ],
   "source": [
    "import tensorflow as tf\n",
    "from tensorflow.keras import layers, models\n",
    "\n",
    "#defining the cnn model\n",
    "def create_cnn_model(input_shape):\n",
    "    model = models.Sequential()\n",
    "    model.add(layers.Conv1D(32, kernel_size=3, activation = 'relu', input_shape=input_shape[1: ]))\n",
    "    model.add(layers.MaxPooling1D(pool_size=2))\n",
    "    model.add(layers.Conv1D(64, kernel_size=3, activation='relu'))\n",
    "    model.add(layers.MaxPooling1D(pool_size=2))\n",
    "    model.add(layers.Flatten())\n",
    "    model.add(layers.Dense(128, activation='relu'))\n",
    "    model.add(layers.Dense(2, activation='linear'))\n",
    "\n",
    "    return model\n",
    "\n",
    "input_shape = (8640, 623, 1)\n",
    "\n",
    "model = create_cnn_model(input_shape)\n",
    "\n",
    "model.compile(optimizer='adam', loss='mse', metrics=['mae'])\n",
    "\n",
    "model.summary()\n",
    "\n",
    "model.fit(normalized_signal, normalized_signal_labels, epochs=10, batch_size=32, validation_split=0.2)"
   ]
  },
  {
   "cell_type": "code",
   "execution_count": 58,
   "id": "30ea5491-c607-4494-b2ef-72d9d1d0bbf5",
   "metadata": {},
   "outputs": [],
   "source": [
    "some_data = normalized_signal[:10]"
   ]
  },
  {
   "cell_type": "code",
   "execution_count": 59,
   "id": "785cca4b-a89c-40cc-869b-abdffc63939a",
   "metadata": {},
   "outputs": [],
   "source": [
    "some_labels = normalized_signal_labels[:10]"
   ]
  },
  {
   "cell_type": "code",
   "execution_count": 60,
   "id": "b1b925a1-3a43-4f59-8d5c-f5819bd98765",
   "metadata": {},
   "outputs": [],
   "source": [
    "prepared_data = np.reshape(some_data, (some_data.shape[0], some_data.shape[1], 1))"
   ]
  },
  {
   "cell_type": "code",
   "execution_count": 61,
   "id": "1caa1489-c99d-410a-8d7b-9b7a140f284d",
   "metadata": {},
   "outputs": [
    {
     "name": "stdout",
     "output_type": "stream",
     "text": [
      "\u001b[1m1/1\u001b[0m \u001b[32m━━━━━━━━━━━━━━━━━━━━\u001b[0m\u001b[37m\u001b[0m \u001b[1m0s\u001b[0m 209ms/step\n"
     ]
    }
   ],
   "source": [
    "predictions = model.predict(prepared_data)"
   ]
  },
  {
   "cell_type": "code",
   "execution_count": 62,
   "id": "7f7e3c47-610d-42aa-a729-e1b4370dac3a",
   "metadata": {},
   "outputs": [
    {
     "data": {
      "text/plain": [
       "array([[0.17557274, 0.7729285 ],\n",
       "       [0.17557274, 0.7729285 ],\n",
       "       [0.17557274, 0.7729285 ],\n",
       "       [0.17557274, 0.7729285 ],\n",
       "       [0.17557274, 0.7729285 ],\n",
       "       [0.17557274, 0.7729285 ],\n",
       "       [0.17557274, 0.7729285 ],\n",
       "       [0.17557274, 0.7729285 ],\n",
       "       [0.17557274, 0.7729285 ],\n",
       "       [0.17557274, 0.7729285 ]], dtype=float32)"
      ]
     },
     "execution_count": 62,
     "metadata": {},
     "output_type": "execute_result"
    }
   ],
   "source": [
    "predictions"
   ]
  },
  {
   "cell_type": "code",
   "execution_count": 63,
   "id": "001080aa-27e2-49e0-8f61-311a876314f0",
   "metadata": {
    "scrolled": true
   },
   "outputs": [
    {
     "data": {
      "text/plain": [
       "[[[0.3500183295661009], [1.0]],\n",
       " [[0.3500183295661009], [1.0]],\n",
       " [[0.3500183295661009], [1.0]],\n",
       " [[0.3500183295661009], [1.0]],\n",
       " [[0.3500183295661009], [1.0]],\n",
       " [[0.3500183295661009], [1.0]],\n",
       " [[0.17500916478305042], [1.0]],\n",
       " [[0.17500916478305042], [1.0]],\n",
       " [[0.17500916478305042], [1.0]],\n",
       " [[0.17500916478305042], [1.0]]]"
      ]
     },
     "execution_count": 63,
     "metadata": {},
     "output_type": "execute_result"
    }
   ],
   "source": [
    "some_labels.tolist()"
   ]
  },
  {
   "cell_type": "markdown",
   "id": "e5cbd50e-2884-4e43-869a-eaa5f8bca7d7",
   "metadata": {},
   "source": [
    "## Evaluating the Model"
   ]
  },
  {
   "cell_type": "code",
   "execution_count": 64,
   "id": "65b5c3de-8a2c-49a5-bf9e-b31583978f70",
   "metadata": {},
   "outputs": [
    {
     "name": "stdout",
     "output_type": "stream",
     "text": [
      "\u001b[1m270/270\u001b[0m \u001b[32m━━━━━━━━━━━━━━━━━━━━\u001b[0m\u001b[37m\u001b[0m \u001b[1m2s\u001b[0m 8ms/step\n"
     ]
    }
   ],
   "source": [
    "from sklearn.metrics import mean_squared_error\n",
    "import numpy as np\n",
    "\n",
    "predictions = model.predict(normalized_signal)\n",
    "\n",
    "if normalized_signal_labels.ndim > 2:\n",
    "    normalized_signal_labels = normalized_signal_labels.squeeze()\n",
    "if predictions.ndim > 2:\n",
    "    predictions = predictions.squeeze()\n",
    "\n",
    "mse = mean_squared_error(normalized_signal_labels, predictions)\n",
    "rmse = np.sqrt(mse)"
   ]
  },
  {
   "cell_type": "code",
   "execution_count": 65,
   "id": "679f72b0-bd05-4f5f-9219-90e81e00e984",
   "metadata": {},
   "outputs": [
    {
     "data": {
      "text/plain": [
       "0.023810588969916474"
      ]
     },
     "execution_count": 65,
     "metadata": {},
     "output_type": "execute_result"
    }
   ],
   "source": [
    "mse"
   ]
  },
  {
   "cell_type": "code",
   "execution_count": 66,
   "id": "92c1e23e-1921-4ff7-bd96-7e63bab98196",
   "metadata": {},
   "outputs": [
    {
     "data": {
      "text/plain": [
       "0.15430680143764394"
      ]
     },
     "execution_count": 66,
     "metadata": {},
     "output_type": "execute_result"
    }
   ],
   "source": [
    "rmse"
   ]
  },
  {
   "cell_type": "markdown",
   "id": "9860e854-4583-44fa-b796-9f4eb70193ca",
   "metadata": {},
   "source": [
    "## Testing the Model"
   ]
  },
  {
   "cell_type": "code",
   "execution_count": 67,
   "id": "281e6c47-adec-4def-8944-abb4fd841757",
   "metadata": {
    "jp-MarkdownHeadingCollapsed": true
   },
   "outputs": [],
   "source": [
    "import pandas as pd\n",
    "strat_test_set = pd.read_excel(\"test.twentyfive.xlsx\")"
   ]
  },
  {
   "cell_type": "code",
   "execution_count": 68,
   "id": "780ce625-e842-4add-ae34-c4c129387449",
   "metadata": {},
   "outputs": [],
   "source": [
    "# strat_test_set = strat_test_set.drop(\"Label\", axis=1)"
   ]
  },
  {
   "cell_type": "code",
   "execution_count": 69,
   "id": "34a111dc-30cd-40e0-a1d2-6892b1ed2a8c",
   "metadata": {},
   "outputs": [
    {
     "data": {
      "text/plain": [
       "(7392, 625)"
      ]
     },
     "execution_count": 69,
     "metadata": {},
     "output_type": "execute_result"
    }
   ],
   "source": [
    "strat_test_set.shape"
   ]
  },
  {
   "cell_type": "code",
   "execution_count": 70,
   "id": "09bf4a9f-cd0d-4b93-99ab-d96be9f599a1",
   "metadata": {},
   "outputs": [],
   "source": [
    "x_test = strat_test_set.drop(['x', 'y'], axis = 1) #dropping columns 'x' and 'y' from testing data frame\n",
    "y_test = strat_test_set[['x', 'y']].copy() #selecting only columns 'x' and 'y' from testing data frame"
   ]
  },
  {
   "cell_type": "code",
   "execution_count": 71,
   "id": "af93b621-bd14-49f4-805f-9ef5d5aabd83",
   "metadata": {},
   "outputs": [],
   "source": [
    "x_test_shape = x_test.shape\n",
    "y_test_shape = y_test.shape"
   ]
  },
  {
   "cell_type": "code",
   "execution_count": 72,
   "id": "ee1f6d19-f65b-40ba-9e74-6bca01c42c38",
   "metadata": {},
   "outputs": [],
   "source": [
    "# x_test_shape"
   ]
  },
  {
   "cell_type": "code",
   "execution_count": 73,
   "id": "cf96f219-45fc-4ff1-97ca-d4ed2385e0e1",
   "metadata": {},
   "outputs": [],
   "source": [
    "# y_test_shape"
   ]
  },
  {
   "cell_type": "code",
   "execution_count": 74,
   "id": "6e3121e2-7a61-4631-8525-90164f0e20c3",
   "metadata": {},
   "outputs": [],
   "source": [
    "#Reshaping the test data\n",
    "x_test_array = x_test.values\n",
    "reshaped_x_test = x_test_array.reshape(x_test_shape[0], x_test_shape[1], 1)\n",
    "\n",
    "y_test_array = y_test.values\n",
    "reshaped_y_test = y_test_array.reshape(y_test_shape[0], y_test_shape[1], 1)"
   ]
  },
  {
   "cell_type": "code",
   "execution_count": 75,
   "id": "c392f715-40f5-4bc9-95e6-2439ae36404f",
   "metadata": {},
   "outputs": [],
   "source": [
    "#Normalizing the test data\n",
    "from sklearn.preprocessing import MinMaxScaler\n",
    "flattened_x_test = reshaped_x_test.reshape(-1, 1)\n",
    "scaler = MinMaxScaler()\n",
    "normalized_flattened_x_test = scaler.fit_transform(flattened_x_test)\n",
    "normalized_x_test = normalized_flattened_x_test.reshape(reshaped_x_test.shape)\n",
    "\n",
    "flattened_y_test = reshaped_y_test.reshape(-1, 1)\n",
    "normalized_flattened_y_test = scaler.fit_transform(flattened_y_test)\n",
    "normalized_y_test = normalized_flattened_y_test.reshape(reshaped_y_test.shape)"
   ]
  },
  {
   "cell_type": "code",
   "execution_count": 76,
   "id": "a7a357e4-6822-4b2f-a904-f9f2a8e31ade",
   "metadata": {},
   "outputs": [],
   "source": [
    "# normalized_x_test.shape"
   ]
  },
  {
   "cell_type": "code",
   "execution_count": 77,
   "id": "3a568b31-3bd0-4ccc-a654-80baabfe3d1f",
   "metadata": {},
   "outputs": [],
   "source": [
    "# normalized_y_test.shape"
   ]
  },
  {
   "cell_type": "code",
   "execution_count": 78,
   "id": "45ef63e1-6979-4ba0-9a70-0157cd618666",
   "metadata": {},
   "outputs": [
    {
     "name": "stdout",
     "output_type": "stream",
     "text": [
      "\u001b[1m231/231\u001b[0m \u001b[32m━━━━━━━━━━━━━━━━━━━━\u001b[0m\u001b[37m\u001b[0m \u001b[1m2s\u001b[0m 8ms/step\n"
     ]
    }
   ],
   "source": [
    "from sklearn.metrics import mean_squared_error\n",
    "import numpy as np\n",
    "\n",
    "predictions = model.predict(normalized_x_test)\n",
    "\n",
    "if normalized_y_test.ndim > 2:\n",
    "    normalized_y_test = normalized_y_test.squeeze()\n",
    "if predictions.ndim > 2:\n",
    "    predictions = predictions.squeeze()\n",
    "\n",
    "mse = mean_squared_error(normalized_y_test, predictions)\n",
    "rmse = np.sqrt(mse)"
   ]
  },
  {
   "cell_type": "code",
   "execution_count": 79,
   "id": "83111f0c-a9df-4637-85b5-08bb14b60d56",
   "metadata": {},
   "outputs": [],
   "source": [
    "# rmse"
   ]
  },
  {
   "cell_type": "code",
   "execution_count": 80,
   "id": "6a13d924-a786-4211-98b1-b35baaa28e34",
   "metadata": {},
   "outputs": [],
   "source": [
    "# mse"
   ]
  },
  {
   "cell_type": "code",
   "execution_count": 81,
   "id": "4f1e4f11-e0ed-4d6a-a1c7-fa4b6dc660eb",
   "metadata": {},
   "outputs": [
    {
     "name": "stdout",
     "output_type": "stream",
     "text": [
      "\u001b[1m231/231\u001b[0m \u001b[32m━━━━━━━━━━━━━━━━━━━━\u001b[0m\u001b[37m\u001b[0m \u001b[1m2s\u001b[0m 8ms/step\n",
      "Average Localisation Error: 0.18973636435638866\n",
      "RMSE: 0.1440058253364601\n"
     ]
    }
   ],
   "source": [
    "final_predictions = model.predict(normalized_x_test)\n",
    "final_mse = mean_squared_error(normalized_y_test, final_predictions)\n",
    "final_rmse = np.sqrt(mse)\n",
    "predicted_coords = final_predictions\n",
    "ground_truth_coords = normalized_y_test.tolist()\n",
    "avg_error = average_localization_error(predicted_coords, ground_truth_coords)\n",
    "print(\"Average Localisation Error:\", avg_error)\n",
    "print(\"RMSE:\", final_rmse) \n",
    "# print(final_predictions, normalized_y_test.tolist())"
   ]
  },
  {
   "cell_type": "code",
   "execution_count": null,
   "id": "edf715df-ecf6-4371-bd0b-141420e48fe5",
   "metadata": {},
   "outputs": [],
   "source": []
  },
  {
   "cell_type": "code",
   "execution_count": null,
   "id": "24c41bab-b55a-42a4-a5f2-5996068bf933",
   "metadata": {},
   "outputs": [],
   "source": []
  }
 ],
 "metadata": {
  "kernelspec": {
   "display_name": "Python 3 (ipykernel)",
   "language": "python",
   "name": "python3"
  },
  "language_info": {
   "codemirror_mode": {
    "name": "ipython",
    "version": 3
   },
   "file_extension": ".py",
   "mimetype": "text/x-python",
   "name": "python",
   "nbconvert_exporter": "python",
   "pygments_lexer": "ipython3",
   "version": "3.11.8"
  }
 },
 "nbformat": 4,
 "nbformat_minor": 5
}
